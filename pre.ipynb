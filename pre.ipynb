{
 "cells": [
  {
   "cell_type": "markdown",
   "id": "eb2fab3b-39a3-4ead-9f74-2bbabc823301",
   "metadata": {},
   "source": [
    "# Financial Sentiment Analysis and Stock Price Prediction"
   ]
  },
  {
   "cell_type": "markdown",
   "id": "14431f60-5230-4c69-8749-03774f19e0c8",
   "metadata": {},
   "source": [
    "## Data Loading and Preprocessing"
   ]
  },
  {
   "cell_type": "code",
   "execution_count": 2,
   "id": "b76d0b57-449d-4f6e-b5ad-ff429f9b3a13",
   "metadata": {},
   "outputs": [
    {
     "name": "stdout",
     "output_type": "stream",
     "text": [
      "Collecting optuna\n",
      "  Downloading optuna-4.0.0-py3-none-any.whl.metadata (16 kB)\n",
      "Collecting alembic>=1.5.0 (from optuna)\n",
      "  Downloading alembic-1.13.3-py3-none-any.whl.metadata (7.4 kB)\n",
      "Collecting colorlog (from optuna)\n",
      "  Downloading colorlog-6.8.2-py3-none-any.whl.metadata (10 kB)\n",
      "Requirement already satisfied: numpy in c:\\users\\lenovo\\anaconda3\\lib\\site-packages (from optuna) (1.26.4)\n",
      "Requirement already satisfied: packaging>=20.0 in c:\\users\\lenovo\\anaconda3\\lib\\site-packages (from optuna) (23.1)\n",
      "Requirement already satisfied: sqlalchemy>=1.3.0 in c:\\users\\lenovo\\anaconda3\\lib\\site-packages (from optuna) (2.0.25)\n",
      "Requirement already satisfied: tqdm in c:\\users\\lenovo\\anaconda3\\lib\\site-packages (from optuna) (4.65.0)\n",
      "Requirement already satisfied: PyYAML in c:\\users\\lenovo\\anaconda3\\lib\\site-packages (from optuna) (6.0.1)\n",
      "Collecting Mako (from alembic>=1.5.0->optuna)\n",
      "  Downloading Mako-1.3.5-py3-none-any.whl.metadata (2.9 kB)\n",
      "Requirement already satisfied: typing-extensions>=4 in c:\\users\\lenovo\\anaconda3\\lib\\site-packages (from alembic>=1.5.0->optuna) (4.11.0)\n",
      "Requirement already satisfied: greenlet!=0.4.17 in c:\\users\\lenovo\\anaconda3\\lib\\site-packages (from sqlalchemy>=1.3.0->optuna) (3.0.1)\n",
      "Requirement already satisfied: colorama in c:\\users\\lenovo\\anaconda3\\lib\\site-packages (from colorlog->optuna) (0.4.6)\n",
      "Requirement already satisfied: MarkupSafe>=0.9.2 in c:\\users\\lenovo\\anaconda3\\lib\\site-packages (from Mako->alembic>=1.5.0->optuna) (2.1.3)\n",
      "Downloading optuna-4.0.0-py3-none-any.whl (362 kB)\n",
      "   ---------------------------------------- 0.0/362.8 kB ? eta -:--:--\n",
      "   ------------------------ --------------- 225.3/362.8 kB 6.9 MB/s eta 0:00:01\n",
      "   ---------------------------------------- 362.8/362.8 kB 5.7 MB/s eta 0:00:00\n",
      "Downloading alembic-1.13.3-py3-none-any.whl (233 kB)\n",
      "   ---------------------------------------- 0.0/233.2 kB ? eta -:--:--\n",
      "   ---------------------------------------- 233.2/233.2 kB 7.2 MB/s eta 0:00:00\n",
      "Downloading colorlog-6.8.2-py3-none-any.whl (11 kB)\n",
      "Downloading Mako-1.3.5-py3-none-any.whl (78 kB)\n",
      "   ---------------------------------------- 0.0/78.6 kB ? eta -:--:--\n",
      "   ---------------------------------------- 78.6/78.6 kB 2.2 MB/s eta 0:00:00\n",
      "Installing collected packages: Mako, colorlog, alembic, optuna\n",
      "Successfully installed Mako-1.3.5 alembic-1.13.3 colorlog-6.8.2 optuna-4.0.0\n"
     ]
    }
   ],
   "source": [
    "!pip install optuna\n"
   ]
  },
  {
   "cell_type": "code",
   "execution_count": 3,
   "id": "3969d74e-a71a-4cbd-8b8b-ec5800dee64e",
   "metadata": {},
   "outputs": [
    {
     "name": "stderr",
     "output_type": "stream",
     "text": [
      "[nltk_data] Downloading package punkt to\n",
      "[nltk_data]     C:\\Users\\lenovo\\AppData\\Roaming\\nltk_data...\n",
      "[nltk_data]   Package punkt is already up-to-date!\n",
      "[nltk_data] Downloading package stopwords to\n",
      "[nltk_data]     C:\\Users\\lenovo\\AppData\\Roaming\\nltk_data...\n",
      "[nltk_data]   Package stopwords is already up-to-date!\n"
     ]
    },
    {
     "data": {
      "text/plain": [
       "True"
      ]
     },
     "execution_count": 3,
     "metadata": {},
     "output_type": "execute_result"
    }
   ],
   "source": [
    "import pandas as pd\n",
    "import numpy as np\n",
    "import matplotlib.pyplot as plt\n",
    "from sklearn.preprocessing import MinMaxScaler\n",
    "from sklearn.model_selection import train_test_split\n",
    "from sklearn.metrics import mean_squared_error, r2_score, mean_absolute_error\n",
    "from tensorflow.keras.models import Sequential\n",
    "from tensorflow.keras.layers import LSTM, Dense, Dropout\n",
    "from tensorflow.keras.optimizers import Adam\n",
    "from tensorflow.keras.callbacks import EarlyStopping\n",
    "import optuna\n",
    "from transformers import AutoTokenizer, AutoModelForSequenceClassification\n",
    "import torch\n",
    "import re\n",
    "from nltk.corpus import stopwords\n",
    "from nltk.tokenize import word_tokenize\n",
    "import nltk\n",
    "import yfinance as yf\n",
    "\n",
    "# Download necessary NLTK data\n",
    "nltk.download('punkt')\n",
    "nltk.download('stopwords')"
   ]
  },
  {
   "cell_type": "code",
   "execution_count": 6,
   "id": "96768e66-f723-4c2c-b389-f22fad126dc4",
   "metadata": {},
   "outputs": [
    {
     "name": "stdout",
     "output_type": "stream",
     "text": [
      "                 date                                           headline  \\\n",
      "0 2024-10-14 12:14:00  Q2 Results Live Updates: RIL, HCLTech Among Ke...   \n",
      "1 2024-10-14 11:46:00  Jio Prepaid Recharge Plans: Check Latest Recha...   \n",
      "2 2024-10-14 09:32:00  RIL Q2 preview: Refining weighs on profits, Ji...   \n",
      "3 2024-10-14 08:46:00  Mukesh Ambani's Reliance Industries eyeing a s...   \n",
      "5 2024-10-11 00:00:00  Reliance Industries Q2 Preview: Weak O2C Segme...   \n",
      "\n",
      "                                                news  \n",
      "0  Reliance Industries is likely to report a net ...  \n",
      "1  Jio has also rolled out mid-year prepaid recha...  \n",
      "2  The telecom segment, led by Reliance Jio, is p...  \n",
      "3  Mukesh Ambani-led Reliance Industries aims to ...  \n",
      "5  The O2C and upstream oil and gas segments cont...  \n",
      "<class 'pandas.core.frame.DataFrame'>\n",
      "Index: 1992 entries, 0 to 4609\n",
      "Data columns (total 3 columns):\n",
      " #   Column    Non-Null Count  Dtype         \n",
      "---  ------    --------------  -----         \n",
      " 0   date      1992 non-null   datetime64[ns]\n",
      " 1   headline  1992 non-null   object        \n",
      " 2   news      1992 non-null   object        \n",
      "dtypes: datetime64[ns](1), object(2)\n",
      "memory usage: 62.2+ KB\n",
      "None\n"
     ]
    }
   ],
   "source": [
    "# Load the data\n",
    "df = pd.read_csv(\"reilance_final_news.csv\")\n",
    "\n",
    "# Data cleaning\n",
    "columns_to_keep = ['date', 'headline', 'news']\n",
    "df = df[columns_to_keep].dropna()\n",
    "\n",
    "# Convert date to datetime with a more flexible parser\n",
    "df['date'] = pd.to_datetime(df['date'], format='mixed', dayfirst=True)\n",
    "\n",
    "print(df.head())\n",
    "print(df.info())"
   ]
  },
  {
   "cell_type": "code",
   "execution_count": 7,
   "id": "dc5ee0d6-6b4a-408b-868a-2738cf02a363",
   "metadata": {},
   "outputs": [
    {
     "name": "stdout",
     "output_type": "stream",
     "text": [
      "                                            headline  \\\n",
      "0  Q2 Results Live Updates: RIL, HCLTech Among Ke...   \n",
      "1  Jio Prepaid Recharge Plans: Check Latest Recha...   \n",
      "2  RIL Q2 preview: Refining weighs on profits, Ji...   \n",
      "3  Mukesh Ambani's Reliance Industries eyeing a s...   \n",
      "5  Reliance Industries Q2 Preview: Weak O2C Segme...   \n",
      "\n",
      "                                      clean_headline  \n",
      "0  q results live updates ril hcltech among key e...  \n",
      "1  jio prepaid recharge plans check latest rechar...  \n",
      "2  ril q preview refining weighs profits jio reta...  \n",
      "3  mukesh ambanis reliance industries eyeing slic...  \n",
      "5  reliance industries q preview weak oc segment ...  \n"
     ]
    }
   ],
   "source": [
    "# Text preprocessing function\n",
    "def preprocess_text(text):\n",
    "    text = text.lower()\n",
    "    text = re.sub(r'[^a-zA-Z\\s]', '', text)\n",
    "    tokens = word_tokenize(text)\n",
    "    stop_words = set(stopwords.words('english'))\n",
    "    tokens = [word for word in tokens if word not in stop_words]\n",
    "    return ' '.join(tokens)\n",
    "\n",
    "# Apply text preprocessing\n",
    "df['clean_headline'] = df['headline'].apply(preprocess_text)\n",
    "df['clean_news'] = df['news'].apply(preprocess_text)\n",
    "\n",
    "print(df[['headline', 'clean_headline']].head())"
   ]
  },
  {
   "cell_type": "code",
   "execution_count": 8,
   "id": "a4a758ae-2af1-44f3-a2a9-229d7fb0f4a1",
   "metadata": {},
   "outputs": [
    {
     "data": {
      "application/vnd.jupyter.widget-view+json": {
       "model_id": "0ad7c9e76bea4dfbbb97b3a0651f0b78",
       "version_major": 2,
       "version_minor": 0
      },
      "text/plain": [
       "tokenizer_config.json:   0%|          | 0.00/252 [00:00<?, ?B/s]"
      ]
     },
     "metadata": {},
     "output_type": "display_data"
    },
    {
     "name": "stderr",
     "output_type": "stream",
     "text": [
      "C:\\Users\\lenovo\\anaconda3\\Lib\\site-packages\\huggingface_hub\\file_download.py:159: UserWarning: `huggingface_hub` cache-system uses symlinks by default to efficiently store duplicated files but your machine does not support them in C:\\Users\\lenovo\\.cache\\huggingface\\hub\\models--ProsusAI--finbert. Caching files will still work but in a degraded version that might require more space on your disk. This warning can be disabled by setting the `HF_HUB_DISABLE_SYMLINKS_WARNING` environment variable. For more details, see https://huggingface.co/docs/huggingface_hub/how-to-cache#limitations.\n",
      "To support symlinks on Windows, you either need to activate Developer Mode or to run Python as an administrator. In order to see activate developer mode, see this article: https://docs.microsoft.com/en-us/windows/apps/get-started/enable-your-device-for-development\n",
      "  warnings.warn(message)\n"
     ]
    },
    {
     "data": {
      "application/vnd.jupyter.widget-view+json": {
       "model_id": "69b9f3baec844d31916e58d7e6972f77",
       "version_major": 2,
       "version_minor": 0
      },
      "text/plain": [
       "config.json:   0%|          | 0.00/758 [00:00<?, ?B/s]"
      ]
     },
     "metadata": {},
     "output_type": "display_data"
    },
    {
     "data": {
      "application/vnd.jupyter.widget-view+json": {
       "model_id": "8235dc2a65b0409fad954714fd01bd51",
       "version_major": 2,
       "version_minor": 0
      },
      "text/plain": [
       "vocab.txt:   0%|          | 0.00/232k [00:00<?, ?B/s]"
      ]
     },
     "metadata": {},
     "output_type": "display_data"
    },
    {
     "data": {
      "application/vnd.jupyter.widget-view+json": {
       "model_id": "47130ea72201433f96d11673f2b6da6d",
       "version_major": 2,
       "version_minor": 0
      },
      "text/plain": [
       "special_tokens_map.json:   0%|          | 0.00/112 [00:00<?, ?B/s]"
      ]
     },
     "metadata": {},
     "output_type": "display_data"
    },
    {
     "data": {
      "application/vnd.jupyter.widget-view+json": {
       "model_id": "a8d314fab1224a2e9587b6808e671a94",
       "version_major": 2,
       "version_minor": 0
      },
      "text/plain": [
       "pytorch_model.bin:   0%|          | 0.00/438M [00:00<?, ?B/s]"
      ]
     },
     "metadata": {},
     "output_type": "display_data"
    },
    {
     "name": "stdout",
     "output_type": "stream",
     "text": [
      "           date  headline_sentiment  news_sentiment  combined_sentiment\n",
      "4609 2017-09-14            0.530835        0.813667            0.672251\n",
      "4606 2017-09-17           -0.425448       -0.882798           -0.654123\n",
      "4603 2017-09-21            0.790496        0.808749            0.799623\n",
      "4601 2017-09-22            0.856613        0.919178            0.887896\n",
      "4600 2017-09-24            0.900641       -0.007363            0.446639\n"
     ]
    }
   ],
   "source": [
    "# Perform sentiment analysis using FinBERT\n",
    "tokenizer = AutoTokenizer.from_pretrained(\"ProsusAI/finbert\")\n",
    "model = AutoModelForSequenceClassification.from_pretrained(\"ProsusAI/finbert\")\n",
    "\n",
    "def get_sentiment(text):\n",
    "    inputs = tokenizer(text, return_tensors=\"pt\", truncation=True, max_length=512, padding=True)\n",
    "    outputs = model(**inputs)\n",
    "    probabilities = torch.nn.functional.softmax(outputs.logits, dim=-1)\n",
    "    sentiment_score = probabilities[:, 2].item() - probabilities[:, 0].item()\n",
    "    return sentiment_score\n",
    "\n",
    "df['headline_sentiment'] = df['clean_headline'].apply(get_sentiment)\n",
    "df['news_sentiment'] = df['clean_news'].apply(get_sentiment)\n",
    "\n",
    "# Feature engineering\n",
    "df['combined_sentiment'] = (df['headline_sentiment'] + df['news_sentiment']) / 2\n",
    "\n",
    "# Sort by date\n",
    "df = df.sort_values('date')\n",
    "\n",
    "print(df[['date', 'headline_sentiment', 'news_sentiment', 'combined_sentiment']].head())"
   ]
  },
  {
   "cell_type": "code",
   "execution_count": 9,
   "id": "6f61b8a3-c7af-4a8f-8702-5245fcd5edb2",
   "metadata": {},
   "outputs": [
    {
     "data": {
      "text/html": [
       "<div>\n",
       "<style scoped>\n",
       "    .dataframe tbody tr th:only-of-type {\n",
       "        vertical-align: middle;\n",
       "    }\n",
       "\n",
       "    .dataframe tbody tr th {\n",
       "        vertical-align: top;\n",
       "    }\n",
       "\n",
       "    .dataframe thead th {\n",
       "        text-align: right;\n",
       "    }\n",
       "</style>\n",
       "<table border=\"1\" class=\"dataframe\">\n",
       "  <thead>\n",
       "    <tr style=\"text-align: right;\">\n",
       "      <th></th>\n",
       "      <th>date</th>\n",
       "      <th>headline</th>\n",
       "      <th>news</th>\n",
       "      <th>clean_headline</th>\n",
       "      <th>clean_news</th>\n",
       "      <th>headline_sentiment</th>\n",
       "      <th>news_sentiment</th>\n",
       "      <th>combined_sentiment</th>\n",
       "    </tr>\n",
       "  </thead>\n",
       "  <tbody>\n",
       "    <tr>\n",
       "      <th>4609</th>\n",
       "      <td>2017-09-14 00:00:00</td>\n",
       "      <td>IUC subsidising incumbent operators: Reliance Jio</td>\n",
       "      <td>With ongoing migration of all networks to IP-b...</td>\n",
       "      <td>iuc subsidising incumbent operators reliance jio</td>\n",
       "      <td>ongoing migration networks ipbased networks vo...</td>\n",
       "      <td>0.530835</td>\n",
       "      <td>0.813667</td>\n",
       "      <td>0.672251</td>\n",
       "    </tr>\n",
       "    <tr>\n",
       "      <th>4606</th>\n",
       "      <td>2017-09-17 00:00:00</td>\n",
       "      <td>RIL reverses lower from a key resistance</td>\n",
       "      <td>RIL surged over 3 per cent last week. It teste...</td>\n",
       "      <td>ril reverses lower key resistance</td>\n",
       "      <td>ril surged per cent last week tested resistanc...</td>\n",
       "      <td>-0.425448</td>\n",
       "      <td>-0.882798</td>\n",
       "      <td>-0.654123</td>\n",
       "    </tr>\n",
       "    <tr>\n",
       "      <th>4603</th>\n",
       "      <td>2017-09-21 00:00:00</td>\n",
       "      <td>JioPhonedeliveries likely to start over weekend</td>\n",
       "      <td>Jio had earlier said that it aims to deliver 1...</td>\n",
       "      <td>jiophonedeliveries likely start weekend</td>\n",
       "      <td>jio earlier said aims deliver million phones n...</td>\n",
       "      <td>0.790496</td>\n",
       "      <td>0.808749</td>\n",
       "      <td>0.799623</td>\n",
       "    </tr>\n",
       "    <tr>\n",
       "      <th>4601</th>\n",
       "      <td>2017-09-22 00:00:00</td>\n",
       "      <td>Reliance to deliver 6 mn JioPhones in 15 days ...</td>\n",
       "      <td>JioPhone will come with pre-loaded Jio apps fo...</td>\n",
       "      <td>reliance deliver mn jiophones days starting su...</td>\n",
       "      <td>jiophone come preloaded jio apps messaging ent...</td>\n",
       "      <td>0.856613</td>\n",
       "      <td>0.919178</td>\n",
       "      <td>0.887896</td>\n",
       "    </tr>\n",
       "    <tr>\n",
       "      <th>4600</th>\n",
       "      <td>2017-09-24 00:00:00</td>\n",
       "      <td>Weekly Trading Guide</td>\n",
       "      <td>RIL hovers above key near-term support RIL rev...</td>\n",
       "      <td>weekly trading guide</td>\n",
       "      <td>ril hovers key nearterm support ril reversed s...</td>\n",
       "      <td>0.900641</td>\n",
       "      <td>-0.007363</td>\n",
       "      <td>0.446639</td>\n",
       "    </tr>\n",
       "    <tr>\n",
       "      <th>...</th>\n",
       "      <td>...</td>\n",
       "      <td>...</td>\n",
       "      <td>...</td>\n",
       "      <td>...</td>\n",
       "      <td>...</td>\n",
       "      <td>...</td>\n",
       "      <td>...</td>\n",
       "      <td>...</td>\n",
       "    </tr>\n",
       "    <tr>\n",
       "      <th>5</th>\n",
       "      <td>2024-10-11 00:00:00</td>\n",
       "      <td>Reliance Industries Q2 Preview: Weak O2C Segme...</td>\n",
       "      <td>The O2C and upstream oil and gas segments cont...</td>\n",
       "      <td>reliance industries q preview weak oc segment ...</td>\n",
       "      <td>oc upstream oil gas segments contributed relia...</td>\n",
       "      <td>0.011558</td>\n",
       "      <td>-0.925460</td>\n",
       "      <td>-0.456951</td>\n",
       "    </tr>\n",
       "    <tr>\n",
       "      <th>3</th>\n",
       "      <td>2024-10-14 08:46:00</td>\n",
       "      <td>Mukesh Ambani's Reliance Industries eyeing a s...</td>\n",
       "      <td>Mukesh Ambani-led Reliance Industries aims to ...</td>\n",
       "      <td>mukesh ambanis reliance industries eyeing slic...</td>\n",
       "      <td>mukesh ambaniled reliance industries aims stre...</td>\n",
       "      <td>0.872286</td>\n",
       "      <td>0.458103</td>\n",
       "      <td>0.665194</td>\n",
       "    </tr>\n",
       "    <tr>\n",
       "      <th>2</th>\n",
       "      <td>2024-10-14 09:32:00</td>\n",
       "      <td>RIL Q2 preview: Refining weighs on profits, Ji...</td>\n",
       "      <td>The telecom segment, led by Reliance Jio, is p...</td>\n",
       "      <td>ril q preview refining weighs profits jio reta...</td>\n",
       "      <td>telecom segment led reliance jio poised growth...</td>\n",
       "      <td>-0.422175</td>\n",
       "      <td>-0.892739</td>\n",
       "      <td>-0.657457</td>\n",
       "    </tr>\n",
       "    <tr>\n",
       "      <th>1</th>\n",
       "      <td>2024-10-14 11:46:00</td>\n",
       "      <td>Jio Prepaid Recharge Plans: Check Latest Recha...</td>\n",
       "      <td>Jio has also rolled out mid-year prepaid recha...</td>\n",
       "      <td>jio prepaid recharge plans check latest rechar...</td>\n",
       "      <td>jio also rolled midyear prepaid recharge plans...</td>\n",
       "      <td>0.891733</td>\n",
       "      <td>-0.351650</td>\n",
       "      <td>0.270041</td>\n",
       "    </tr>\n",
       "    <tr>\n",
       "      <th>0</th>\n",
       "      <td>2024-10-14 12:14:00</td>\n",
       "      <td>Q2 Results Live Updates: RIL, HCLTech Among Ke...</td>\n",
       "      <td>Reliance Industries is likely to report a net ...</td>\n",
       "      <td>q results live updates ril hcltech among key e...</td>\n",
       "      <td>reliance industries likely report net profit r...</td>\n",
       "      <td>0.613017</td>\n",
       "      <td>0.145441</td>\n",
       "      <td>0.379229</td>\n",
       "    </tr>\n",
       "  </tbody>\n",
       "</table>\n",
       "<p>1992 rows × 8 columns</p>\n",
       "</div>"
      ],
      "text/plain": [
       "                    date                                           headline  \\\n",
       "4609 2017-09-14 00:00:00  IUC subsidising incumbent operators: Reliance Jio   \n",
       "4606 2017-09-17 00:00:00           RIL reverses lower from a key resistance   \n",
       "4603 2017-09-21 00:00:00    JioPhonedeliveries likely to start over weekend   \n",
       "4601 2017-09-22 00:00:00  Reliance to deliver 6 mn JioPhones in 15 days ...   \n",
       "4600 2017-09-24 00:00:00                               Weekly Trading Guide   \n",
       "...                  ...                                                ...   \n",
       "5    2024-10-11 00:00:00  Reliance Industries Q2 Preview: Weak O2C Segme...   \n",
       "3    2024-10-14 08:46:00  Mukesh Ambani's Reliance Industries eyeing a s...   \n",
       "2    2024-10-14 09:32:00  RIL Q2 preview: Refining weighs on profits, Ji...   \n",
       "1    2024-10-14 11:46:00  Jio Prepaid Recharge Plans: Check Latest Recha...   \n",
       "0    2024-10-14 12:14:00  Q2 Results Live Updates: RIL, HCLTech Among Ke...   \n",
       "\n",
       "                                                   news  \\\n",
       "4609  With ongoing migration of all networks to IP-b...   \n",
       "4606  RIL surged over 3 per cent last week. It teste...   \n",
       "4603  Jio had earlier said that it aims to deliver 1...   \n",
       "4601  JioPhone will come with pre-loaded Jio apps fo...   \n",
       "4600  RIL hovers above key near-term support RIL rev...   \n",
       "...                                                 ...   \n",
       "5     The O2C and upstream oil and gas segments cont...   \n",
       "3     Mukesh Ambani-led Reliance Industries aims to ...   \n",
       "2     The telecom segment, led by Reliance Jio, is p...   \n",
       "1     Jio has also rolled out mid-year prepaid recha...   \n",
       "0     Reliance Industries is likely to report a net ...   \n",
       "\n",
       "                                         clean_headline  \\\n",
       "4609   iuc subsidising incumbent operators reliance jio   \n",
       "4606                  ril reverses lower key resistance   \n",
       "4603            jiophonedeliveries likely start weekend   \n",
       "4601  reliance deliver mn jiophones days starting su...   \n",
       "4600                               weekly trading guide   \n",
       "...                                                 ...   \n",
       "5     reliance industries q preview weak oc segment ...   \n",
       "3     mukesh ambanis reliance industries eyeing slic...   \n",
       "2     ril q preview refining weighs profits jio reta...   \n",
       "1     jio prepaid recharge plans check latest rechar...   \n",
       "0     q results live updates ril hcltech among key e...   \n",
       "\n",
       "                                             clean_news  headline_sentiment  \\\n",
       "4609  ongoing migration networks ipbased networks vo...            0.530835   \n",
       "4606  ril surged per cent last week tested resistanc...           -0.425448   \n",
       "4603  jio earlier said aims deliver million phones n...            0.790496   \n",
       "4601  jiophone come preloaded jio apps messaging ent...            0.856613   \n",
       "4600  ril hovers key nearterm support ril reversed s...            0.900641   \n",
       "...                                                 ...                 ...   \n",
       "5     oc upstream oil gas segments contributed relia...            0.011558   \n",
       "3     mukesh ambaniled reliance industries aims stre...            0.872286   \n",
       "2     telecom segment led reliance jio poised growth...           -0.422175   \n",
       "1     jio also rolled midyear prepaid recharge plans...            0.891733   \n",
       "0     reliance industries likely report net profit r...            0.613017   \n",
       "\n",
       "      news_sentiment  combined_sentiment  \n",
       "4609        0.813667            0.672251  \n",
       "4606       -0.882798           -0.654123  \n",
       "4603        0.808749            0.799623  \n",
       "4601        0.919178            0.887896  \n",
       "4600       -0.007363            0.446639  \n",
       "...              ...                 ...  \n",
       "5          -0.925460           -0.456951  \n",
       "3           0.458103            0.665194  \n",
       "2          -0.892739           -0.657457  \n",
       "1          -0.351650            0.270041  \n",
       "0           0.145441            0.379229  \n",
       "\n",
       "[1992 rows x 8 columns]"
      ]
     },
     "execution_count": 9,
     "metadata": {},
     "output_type": "execute_result"
    }
   ],
   "source": [
    "df"
   ]
  },
  {
   "cell_type": "code",
   "execution_count": 10,
   "id": "5f811058-438a-4b7f-91b7-35b4a681d52e",
   "metadata": {},
   "outputs": [
    {
     "name": "stderr",
     "output_type": "stream",
     "text": [
      "[*********************100%%**********************]  1 of 1 completed"
     ]
    },
    {
     "name": "stdout",
     "output_type": "stream",
     "text": [
      "        Date        Open        High         Low       Close   Adj Close  \\\n",
      "0 2017-09-14  782.485962  787.697632  769.868164  771.559631  748.486938   \n",
      "1 2017-09-15  769.868164  779.788635  763.239258  769.685303  746.668640   \n",
      "2 2017-09-18  777.182800  778.142883  770.873901  773.114014  749.994812   \n",
      "3 2017-09-19  775.994202  776.039917  765.296509  766.759399  743.830139   \n",
      "4 2017-09-20  782.760254  797.755310  772.702576  774.576965  751.413940   \n",
      "\n",
      "     Volume       date  combined_sentiment  \n",
      "0   5933820 2017-09-14            0.672251  \n",
      "1  14297697        NaT            0.672251  \n",
      "2   2530997        NaT            0.672251  \n",
      "3   3859348        NaT            0.672251  \n",
      "4  12471351        NaT            0.672251  \n",
      "<class 'pandas.core.frame.DataFrame'>\n",
      "RangeIndex: 2199 entries, 0 to 2198\n",
      "Data columns (total 9 columns):\n",
      " #   Column              Non-Null Count  Dtype         \n",
      "---  ------              --------------  -----         \n",
      " 0   Date                2199 non-null   datetime64[ns]\n",
      " 1   Open                2199 non-null   float64       \n",
      " 2   High                2199 non-null   float64       \n",
      " 3   Low                 2199 non-null   float64       \n",
      " 4   Close               2199 non-null   float64       \n",
      " 5   Adj Close           2199 non-null   float64       \n",
      " 6   Volume              2199 non-null   int64         \n",
      " 7   date                1451 non-null   datetime64[ns]\n",
      " 8   combined_sentiment  2199 non-null   float64       \n",
      "dtypes: datetime64[ns](2), float64(6), int64(1)\n",
      "memory usage: 154.7 KB\n",
      "None\n"
     ]
    },
    {
     "name": "stderr",
     "output_type": "stream",
     "text": [
      "\n",
      "C:\\Users\\lenovo\\AppData\\Local\\Temp\\ipykernel_15868\\3887938846.py:8: FutureWarning: Series.fillna with 'method' is deprecated and will raise in a future version. Use obj.ffill() or obj.bfill() instead.\n",
      "  merged_data['combined_sentiment'] = merged_data['combined_sentiment'].fillna(method='ffill')\n"
     ]
    }
   ],
   "source": [
    "# Load stock price data\n",
    "stock_data = yf.download('RELIANCE.NS', start=df['date'].min(), end=df['date'].max())\n",
    "stock_data = stock_data.reset_index()\n",
    "stock_data['Date'] = pd.to_datetime(stock_data['Date'])\n",
    "\n",
    "# Merge sentiment data with stock data\n",
    "merged_data = pd.merge(stock_data, df[['date', 'combined_sentiment']], left_on='Date', right_on='date', how='left')\n",
    "merged_data['combined_sentiment'] = merged_data['combined_sentiment'].fillna(method='ffill')\n",
    "\n",
    "print(merged_data.head())\n",
    "print(merged_data.info())"
   ]
  },
  {
   "cell_type": "markdown",
   "id": "35020acd-433f-4f1c-b640-444e49502352",
   "metadata": {},
   "source": [
    "## Data Preparation for LSTM"
   ]
  },
  {
   "cell_type": "code",
   "execution_count": 11,
   "id": "625c3964-4f7c-49e3-8c51-3226d9cab7bc",
   "metadata": {},
   "outputs": [
    {
     "name": "stdout",
     "output_type": "stream",
     "text": [
      "X_train shape: (1711, 60, 6)\n",
      "y_train shape: (1711,)\n",
      "X_test shape: (428, 60, 6)\n",
      "y_test shape: (428,)\n"
     ]
    }
   ],
   "source": [
    "# Prepare data for LSTM\n",
    "scaler = MinMaxScaler()\n",
    "features = ['Open', 'High', 'Low', 'Close', 'Volume', 'combined_sentiment']\n",
    "scaled_data = scaler.fit_transform(merged_data[features])\n",
    "\n",
    "def create_sequences(data, seq_length):\n",
    "    X, y = [], []\n",
    "    for i in range(len(data) - seq_length):\n",
    "        X.append(data[i:(i + seq_length), :])\n",
    "        y.append(data[i + seq_length, 3])  # Predicting the Close price\n",
    "    return np.array(X), np.array(y)\n",
    "\n",
    "seq_length = 60\n",
    "X, y = create_sequences(scaled_data, seq_length)\n",
    "\n",
    "# Split the data\n",
    "X_train, X_test, y_train, y_test = train_test_split(X, y, test_size=0.2, random_state=42)\n",
    "\n",
    "print(\"X_train shape:\", X_train.shape)\n",
    "print(\"y_train shape:\", y_train.shape)\n",
    "print(\"X_test shape:\", X_test.shape)\n",
    "print(\"y_test shape:\", y_test.shape)"
   ]
  },
  {
   "cell_type": "markdown",
   "id": "772d266e-e304-4e2a-ac7b-f1de0c774711",
   "metadata": {},
   "source": [
    "## Model Training with Optuna Optimization"
   ]
  },
  {
   "cell_type": "code",
   "execution_count": 25,
   "id": "aafcd4b3-a1f4-4877-af1c-1c83463e03d9",
   "metadata": {
    "scrolled": true
   },
   "outputs": [
    {
     "name": "stdout",
     "output_type": "stream",
     "text": [
      "Epoch 1/100\n"
     ]
    },
    {
     "name": "stderr",
     "output_type": "stream",
     "text": [
      "C:\\Users\\lenovo\\anaconda3\\Lib\\site-packages\\keras\\src\\layers\\rnn\\rnn.py:204: UserWarning: Do not pass an `input_shape`/`input_dim` argument to a layer. When using Sequential models, prefer using an `Input(shape)` object as the first layer in the model instead.\n",
      "  super().__init__(**kwargs)\n"
     ]
    },
    {
     "name": "stdout",
     "output_type": "stream",
     "text": [
      "\u001b[1m43/43\u001b[0m \u001b[32m━━━━━━━━━━━━━━━━━━━━\u001b[0m\u001b[37m\u001b[0m \u001b[1m7s\u001b[0m 66ms/step - loss: 0.0480 - val_loss: 0.0029\n",
      "Epoch 2/100\n",
      "\u001b[1m43/43\u001b[0m \u001b[32m━━━━━━━━━━━━━━━━━━━━\u001b[0m\u001b[37m\u001b[0m \u001b[1m2s\u001b[0m 56ms/step - loss: 0.0036 - val_loss: 6.8104e-04\n",
      "Epoch 3/100\n",
      "\u001b[1m43/43\u001b[0m \u001b[32m━━━━━━━━━━━━━━━━━━━━\u001b[0m\u001b[37m\u001b[0m \u001b[1m2s\u001b[0m 56ms/step - loss: 0.0026 - val_loss: 9.9385e-04\n",
      "Epoch 4/100\n",
      "\u001b[1m43/43\u001b[0m \u001b[32m━━━━━━━━━━━━━━━━━━━━\u001b[0m\u001b[37m\u001b[0m \u001b[1m2s\u001b[0m 56ms/step - loss: 0.0026 - val_loss: 6.0526e-04\n",
      "Epoch 5/100\n",
      "\u001b[1m43/43\u001b[0m \u001b[32m━━━━━━━━━━━━━━━━━━━━\u001b[0m\u001b[37m\u001b[0m \u001b[1m2s\u001b[0m 57ms/step - loss: 0.0021 - val_loss: 6.1391e-04\n",
      "Epoch 6/100\n",
      "\u001b[1m43/43\u001b[0m \u001b[32m━━━━━━━━━━━━━━━━━━━━\u001b[0m\u001b[37m\u001b[0m \u001b[1m3s\u001b[0m 57ms/step - loss: 0.0021 - val_loss: 7.6834e-04\n",
      "Epoch 7/100\n",
      "\u001b[1m43/43\u001b[0m \u001b[32m━━━━━━━━━━━━━━━━━━━━\u001b[0m\u001b[37m\u001b[0m \u001b[1m2s\u001b[0m 57ms/step - loss: 0.0020 - val_loss: 5.6613e-04\n",
      "Epoch 8/100\n",
      "\u001b[1m43/43\u001b[0m \u001b[32m━━━━━━━━━━━━━━━━━━━━\u001b[0m\u001b[37m\u001b[0m \u001b[1m2s\u001b[0m 56ms/step - loss: 0.0019 - val_loss: 7.4797e-04\n",
      "Epoch 9/100\n",
      "\u001b[1m43/43\u001b[0m \u001b[32m━━━━━━━━━━━━━━━━━━━━\u001b[0m\u001b[37m\u001b[0m \u001b[1m2s\u001b[0m 57ms/step - loss: 0.0022 - val_loss: 5.6191e-04\n",
      "Epoch 10/100\n",
      "\u001b[1m43/43\u001b[0m \u001b[32m━━━━━━━━━━━━━━━━━━━━\u001b[0m\u001b[37m\u001b[0m \u001b[1m2s\u001b[0m 57ms/step - loss: 0.0015 - val_loss: 5.2814e-04\n",
      "Epoch 11/100\n",
      "\u001b[1m43/43\u001b[0m \u001b[32m━━━━━━━━━━━━━━━━━━━━\u001b[0m\u001b[37m\u001b[0m \u001b[1m2s\u001b[0m 57ms/step - loss: 0.0017 - val_loss: 8.8389e-04\n",
      "Epoch 12/100\n",
      "\u001b[1m43/43\u001b[0m \u001b[32m━━━━━━━━━━━━━━━━━━━━\u001b[0m\u001b[37m\u001b[0m \u001b[1m2s\u001b[0m 57ms/step - loss: 0.0015 - val_loss: 8.0387e-04\n",
      "Epoch 13/100\n",
      "\u001b[1m43/43\u001b[0m \u001b[32m━━━━━━━━━━━━━━━━━━━━\u001b[0m\u001b[37m\u001b[0m \u001b[1m2s\u001b[0m 57ms/step - loss: 0.0016 - val_loss: 5.1631e-04\n",
      "Epoch 14/100\n",
      "\u001b[1m43/43\u001b[0m \u001b[32m━━━━━━━━━━━━━━━━━━━━\u001b[0m\u001b[37m\u001b[0m \u001b[1m2s\u001b[0m 56ms/step - loss: 0.0015 - val_loss: 6.2245e-04\n",
      "Epoch 15/100\n",
      "\u001b[1m43/43\u001b[0m \u001b[32m━━━━━━━━━━━━━━━━━━━━\u001b[0m\u001b[37m\u001b[0m \u001b[1m2s\u001b[0m 57ms/step - loss: 0.0015 - val_loss: 0.0011\n",
      "Epoch 16/100\n",
      "\u001b[1m43/43\u001b[0m \u001b[32m━━━━━━━━━━━━━━━━━━━━\u001b[0m\u001b[37m\u001b[0m \u001b[1m2s\u001b[0m 56ms/step - loss: 0.0016 - val_loss: 5.4588e-04\n",
      "Epoch 17/100\n",
      "\u001b[1m43/43\u001b[0m \u001b[32m━━━━━━━━━━━━━━━━━━━━\u001b[0m\u001b[37m\u001b[0m \u001b[1m2s\u001b[0m 56ms/step - loss: 0.0014 - val_loss: 9.1661e-04\n",
      "Epoch 18/100\n",
      "\u001b[1m43/43\u001b[0m \u001b[32m━━━━━━━━━━━━━━━━━━━━\u001b[0m\u001b[37m\u001b[0m \u001b[1m2s\u001b[0m 57ms/step - loss: 0.0013 - val_loss: 4.8452e-04\n",
      "Epoch 19/100\n",
      "\u001b[1m43/43\u001b[0m \u001b[32m━━━━━━━━━━━━━━━━━━━━\u001b[0m\u001b[37m\u001b[0m \u001b[1m2s\u001b[0m 57ms/step - loss: 0.0012 - val_loss: 7.5108e-04\n",
      "Epoch 20/100\n",
      "\u001b[1m43/43\u001b[0m \u001b[32m━━━━━━━━━━━━━━━━━━━━\u001b[0m\u001b[37m\u001b[0m \u001b[1m2s\u001b[0m 57ms/step - loss: 0.0014 - val_loss: 6.1382e-04\n",
      "Epoch 21/100\n",
      "\u001b[1m43/43\u001b[0m \u001b[32m━━━━━━━━━━━━━━━━━━━━\u001b[0m\u001b[37m\u001b[0m \u001b[1m2s\u001b[0m 57ms/step - loss: 0.0014 - val_loss: 6.8062e-04\n",
      "Epoch 22/100\n",
      "\u001b[1m43/43\u001b[0m \u001b[32m━━━━━━━━━━━━━━━━━━━━\u001b[0m\u001b[37m\u001b[0m \u001b[1m2s\u001b[0m 57ms/step - loss: 0.0011 - val_loss: 4.5797e-04\n",
      "Epoch 23/100\n",
      "\u001b[1m43/43\u001b[0m \u001b[32m━━━━━━━━━━━━━━━━━━━━\u001b[0m\u001b[37m\u001b[0m \u001b[1m2s\u001b[0m 56ms/step - loss: 0.0010 - val_loss: 4.7462e-04\n",
      "Epoch 24/100\n",
      "\u001b[1m43/43\u001b[0m \u001b[32m━━━━━━━━━━━━━━━━━━━━\u001b[0m\u001b[37m\u001b[0m \u001b[1m2s\u001b[0m 57ms/step - loss: 0.0011 - val_loss: 5.0574e-04\n",
      "Epoch 25/100\n",
      "\u001b[1m43/43\u001b[0m \u001b[32m━━━━━━━━━━━━━━━━━━━━\u001b[0m\u001b[37m\u001b[0m \u001b[1m2s\u001b[0m 57ms/step - loss: 0.0010 - val_loss: 0.0010\n",
      "Epoch 26/100\n",
      "\u001b[1m43/43\u001b[0m \u001b[32m━━━━━━━━━━━━━━━━━━━━\u001b[0m\u001b[37m\u001b[0m \u001b[1m2s\u001b[0m 57ms/step - loss: 0.0012 - val_loss: 8.5350e-04\n",
      "Epoch 27/100\n",
      "\u001b[1m43/43\u001b[0m \u001b[32m━━━━━━━━━━━━━━━━━━━━\u001b[0m\u001b[37m\u001b[0m \u001b[1m2s\u001b[0m 57ms/step - loss: 0.0012 - val_loss: 4.9378e-04\n",
      "Epoch 28/100\n",
      "\u001b[1m43/43\u001b[0m \u001b[32m━━━━━━━━━━━━━━━━━━━━\u001b[0m\u001b[37m\u001b[0m \u001b[1m3s\u001b[0m 58ms/step - loss: 9.5949e-04 - val_loss: 4.9523e-04\n",
      "Epoch 29/100\n",
      "\u001b[1m43/43\u001b[0m \u001b[32m━━━━━━━━━━━━━━━━━━━━\u001b[0m\u001b[37m\u001b[0m \u001b[1m2s\u001b[0m 58ms/step - loss: 9.4596e-04 - val_loss: 4.3071e-04\n",
      "Epoch 30/100\n",
      "\u001b[1m43/43\u001b[0m \u001b[32m━━━━━━━━━━━━━━━━━━━━\u001b[0m\u001b[37m\u001b[0m \u001b[1m2s\u001b[0m 57ms/step - loss: 9.9382e-04 - val_loss: 4.9896e-04\n",
      "Epoch 31/100\n",
      "\u001b[1m43/43\u001b[0m \u001b[32m━━━━━━━━━━━━━━━━━━━━\u001b[0m\u001b[37m\u001b[0m \u001b[1m2s\u001b[0m 56ms/step - loss: 7.3046e-04 - val_loss: 4.8574e-04\n",
      "Epoch 32/100\n",
      "\u001b[1m43/43\u001b[0m \u001b[32m━━━━━━━━━━━━━━━━━━━━\u001b[0m\u001b[37m\u001b[0m \u001b[1m2s\u001b[0m 57ms/step - loss: 8.7309e-04 - val_loss: 6.5932e-04\n",
      "Epoch 33/100\n",
      "\u001b[1m43/43\u001b[0m \u001b[32m━━━━━━━━━━━━━━━━━━━━\u001b[0m\u001b[37m\u001b[0m \u001b[1m2s\u001b[0m 56ms/step - loss: 8.8176e-04 - val_loss: 4.2016e-04\n",
      "Epoch 34/100\n",
      "\u001b[1m43/43\u001b[0m \u001b[32m━━━━━━━━━━━━━━━━━━━━\u001b[0m\u001b[37m\u001b[0m \u001b[1m2s\u001b[0m 58ms/step - loss: 8.1410e-04 - val_loss: 4.1035e-04\n",
      "Epoch 35/100\n",
      "\u001b[1m43/43\u001b[0m \u001b[32m━━━━━━━━━━━━━━━━━━━━\u001b[0m\u001b[37m\u001b[0m \u001b[1m2s\u001b[0m 57ms/step - loss: 9.1997e-04 - val_loss: 7.9861e-04\n",
      "Epoch 36/100\n",
      "\u001b[1m43/43\u001b[0m \u001b[32m━━━━━━━━━━━━━━━━━━━━\u001b[0m\u001b[37m\u001b[0m \u001b[1m2s\u001b[0m 56ms/step - loss: 9.4880e-04 - val_loss: 3.9898e-04\n",
      "Epoch 37/100\n",
      "\u001b[1m43/43\u001b[0m \u001b[32m━━━━━━━━━━━━━━━━━━━━\u001b[0m\u001b[37m\u001b[0m \u001b[1m2s\u001b[0m 57ms/step - loss: 8.5331e-04 - val_loss: 3.8414e-04\n",
      "Epoch 38/100\n",
      "\u001b[1m43/43\u001b[0m \u001b[32m━━━━━━━━━━━━━━━━━━━━\u001b[0m\u001b[37m\u001b[0m \u001b[1m2s\u001b[0m 56ms/step - loss: 8.9968e-04 - val_loss: 4.0342e-04\n",
      "Epoch 39/100\n",
      "\u001b[1m43/43\u001b[0m \u001b[32m━━━━━━━━━━━━━━━━━━━━\u001b[0m\u001b[37m\u001b[0m \u001b[1m2s\u001b[0m 56ms/step - loss: 0.0010 - val_loss: 8.9759e-04\n",
      "Epoch 40/100\n",
      "\u001b[1m43/43\u001b[0m \u001b[32m━━━━━━━━━━━━━━━━━━━━\u001b[0m\u001b[37m\u001b[0m \u001b[1m2s\u001b[0m 56ms/step - loss: 9.5494e-04 - val_loss: 0.0011\n",
      "Epoch 41/100\n",
      "\u001b[1m43/43\u001b[0m \u001b[32m━━━━━━━━━━━━━━━━━━━━\u001b[0m\u001b[37m\u001b[0m \u001b[1m2s\u001b[0m 56ms/step - loss: 9.4611e-04 - val_loss: 6.4988e-04\n",
      "Epoch 42/100\n",
      "\u001b[1m43/43\u001b[0m \u001b[32m━━━━━━━━━━━━━━━━━━━━\u001b[0m\u001b[37m\u001b[0m \u001b[1m2s\u001b[0m 55ms/step - loss: 8.2538e-04 - val_loss: 4.2033e-04\n",
      "Epoch 43/100\n",
      "\u001b[1m43/43\u001b[0m \u001b[32m━━━━━━━━━━━━━━━━━━━━\u001b[0m\u001b[37m\u001b[0m \u001b[1m2s\u001b[0m 57ms/step - loss: 7.6975e-04 - val_loss: 6.7100e-04\n",
      "Epoch 44/100\n",
      "\u001b[1m43/43\u001b[0m \u001b[32m━━━━━━━━━━━━━━━━━━━━\u001b[0m\u001b[37m\u001b[0m \u001b[1m2s\u001b[0m 56ms/step - loss: 8.7839e-04 - val_loss: 4.6249e-04\n",
      "Epoch 45/100\n",
      "\u001b[1m43/43\u001b[0m \u001b[32m━━━━━━━━━━━━━━━━━━━━\u001b[0m\u001b[37m\u001b[0m \u001b[1m2s\u001b[0m 56ms/step - loss: 7.9308e-04 - val_loss: 5.2329e-04\n",
      "Epoch 46/100\n",
      "\u001b[1m43/43\u001b[0m \u001b[32m━━━━━━━━━━━━━━━━━━━━\u001b[0m\u001b[37m\u001b[0m \u001b[1m2s\u001b[0m 56ms/step - loss: 7.0953e-04 - val_loss: 3.6010e-04\n",
      "Epoch 47/100\n",
      "\u001b[1m43/43\u001b[0m \u001b[32m━━━━━━━━━━━━━━━━━━━━\u001b[0m\u001b[37m\u001b[0m \u001b[1m2s\u001b[0m 56ms/step - loss: 8.5167e-04 - val_loss: 3.4771e-04\n",
      "Epoch 48/100\n",
      "\u001b[1m43/43\u001b[0m \u001b[32m━━━━━━━━━━━━━━━━━━━━\u001b[0m\u001b[37m\u001b[0m \u001b[1m2s\u001b[0m 57ms/step - loss: 7.4948e-04 - val_loss: 9.3538e-04\n",
      "Epoch 49/100\n",
      "\u001b[1m43/43\u001b[0m \u001b[32m━━━━━━━━━━━━━━━━━━━━\u001b[0m\u001b[37m\u001b[0m \u001b[1m2s\u001b[0m 56ms/step - loss: 8.5326e-04 - val_loss: 3.3794e-04\n",
      "Epoch 50/100\n",
      "\u001b[1m43/43\u001b[0m \u001b[32m━━━━━━━━━━━━━━━━━━━━\u001b[0m\u001b[37m\u001b[0m \u001b[1m2s\u001b[0m 57ms/step - loss: 6.7966e-04 - val_loss: 3.7143e-04\n",
      "Epoch 51/100\n",
      "\u001b[1m43/43\u001b[0m \u001b[32m━━━━━━━━━━━━━━━━━━━━\u001b[0m\u001b[37m\u001b[0m \u001b[1m2s\u001b[0m 55ms/step - loss: 8.6879e-04 - val_loss: 4.0760e-04\n",
      "Epoch 52/100\n",
      "\u001b[1m43/43\u001b[0m \u001b[32m━━━━━━━━━━━━━━━━━━━━\u001b[0m\u001b[37m\u001b[0m \u001b[1m2s\u001b[0m 56ms/step - loss: 7.5554e-04 - val_loss: 3.6455e-04\n",
      "Epoch 53/100\n",
      "\u001b[1m43/43\u001b[0m \u001b[32m━━━━━━━━━━━━━━━━━━━━\u001b[0m\u001b[37m\u001b[0m \u001b[1m2s\u001b[0m 56ms/step - loss: 7.2576e-04 - val_loss: 5.0429e-04\n",
      "Epoch 54/100\n",
      "\u001b[1m43/43\u001b[0m \u001b[32m━━━━━━━━━━━━━━━━━━━━\u001b[0m\u001b[37m\u001b[0m \u001b[1m2s\u001b[0m 56ms/step - loss: 7.2840e-04 - val_loss: 3.2858e-04\n",
      "Epoch 55/100\n",
      "\u001b[1m43/43\u001b[0m \u001b[32m━━━━━━━━━━━━━━━━━━━━\u001b[0m\u001b[37m\u001b[0m \u001b[1m2s\u001b[0m 56ms/step - loss: 7.1717e-04 - val_loss: 3.3811e-04\n",
      "Epoch 56/100\n",
      "\u001b[1m43/43\u001b[0m \u001b[32m━━━━━━━━━━━━━━━━━━━━\u001b[0m\u001b[37m\u001b[0m \u001b[1m2s\u001b[0m 57ms/step - loss: 7.0177e-04 - val_loss: 4.6717e-04\n",
      "Epoch 57/100\n",
      "\u001b[1m43/43\u001b[0m \u001b[32m━━━━━━━━━━━━━━━━━━━━\u001b[0m\u001b[37m\u001b[0m \u001b[1m2s\u001b[0m 56ms/step - loss: 8.0641e-04 - val_loss: 3.7424e-04\n",
      "Epoch 58/100\n",
      "\u001b[1m43/43\u001b[0m \u001b[32m━━━━━━━━━━━━━━━━━━━━\u001b[0m\u001b[37m\u001b[0m \u001b[1m2s\u001b[0m 56ms/step - loss: 6.8243e-04 - val_loss: 3.1073e-04\n",
      "Epoch 59/100\n",
      "\u001b[1m43/43\u001b[0m \u001b[32m━━━━━━━━━━━━━━━━━━━━\u001b[0m\u001b[37m\u001b[0m \u001b[1m2s\u001b[0m 57ms/step - loss: 6.4837e-04 - val_loss: 3.9424e-04\n",
      "Epoch 60/100\n",
      "\u001b[1m43/43\u001b[0m \u001b[32m━━━━━━━━━━━━━━━━━━━━\u001b[0m\u001b[37m\u001b[0m \u001b[1m2s\u001b[0m 57ms/step - loss: 9.0135e-04 - val_loss: 3.1677e-04\n",
      "Epoch 61/100\n",
      "\u001b[1m43/43\u001b[0m \u001b[32m━━━━━━━━━━━━━━━━━━━━\u001b[0m\u001b[37m\u001b[0m \u001b[1m2s\u001b[0m 56ms/step - loss: 6.4399e-04 - val_loss: 3.1419e-04\n",
      "Epoch 62/100\n",
      "\u001b[1m43/43\u001b[0m \u001b[32m━━━━━━━━━━━━━━━━━━━━\u001b[0m\u001b[37m\u001b[0m \u001b[1m2s\u001b[0m 56ms/step - loss: 6.8990e-04 - val_loss: 4.2909e-04\n",
      "Epoch 63/100\n",
      "\u001b[1m43/43\u001b[0m \u001b[32m━━━━━━━━━━━━━━━━━━━━\u001b[0m\u001b[37m\u001b[0m \u001b[1m2s\u001b[0m 56ms/step - loss: 7.6979e-04 - val_loss: 3.2973e-04\n",
      "Epoch 64/100\n",
      "\u001b[1m43/43\u001b[0m \u001b[32m━━━━━━━━━━━━━━━━━━━━\u001b[0m\u001b[37m\u001b[0m \u001b[1m2s\u001b[0m 57ms/step - loss: 6.8085e-04 - val_loss: 3.1892e-04\n",
      "Epoch 65/100\n",
      "\u001b[1m43/43\u001b[0m \u001b[32m━━━━━━━━━━━━━━━━━━━━\u001b[0m\u001b[37m\u001b[0m \u001b[1m2s\u001b[0m 57ms/step - loss: 6.7657e-04 - val_loss: 3.1272e-04\n",
      "Epoch 66/100\n",
      "\u001b[1m43/43\u001b[0m \u001b[32m━━━━━━━━━━━━━━━━━━━━\u001b[0m\u001b[37m\u001b[0m \u001b[1m2s\u001b[0m 56ms/step - loss: 7.2477e-04 - val_loss: 3.6474e-04\n",
      "Epoch 67/100\n",
      "\u001b[1m43/43\u001b[0m \u001b[32m━━━━━━━━━━━━━━━━━━━━\u001b[0m\u001b[37m\u001b[0m \u001b[1m3s\u001b[0m 58ms/step - loss: 6.9381e-04 - val_loss: 2.7505e-04\n",
      "Epoch 68/100\n",
      "\u001b[1m43/43\u001b[0m \u001b[32m━━━━━━━━━━━━━━━━━━━━\u001b[0m\u001b[37m\u001b[0m \u001b[1m2s\u001b[0m 57ms/step - loss: 6.9769e-04 - val_loss: 3.2725e-04\n",
      "Epoch 69/100\n",
      "\u001b[1m43/43\u001b[0m \u001b[32m━━━━━━━━━━━━━━━━━━━━\u001b[0m\u001b[37m\u001b[0m \u001b[1m3s\u001b[0m 58ms/step - loss: 7.0019e-04 - val_loss: 2.9223e-04\n",
      "Epoch 70/100\n",
      "\u001b[1m43/43\u001b[0m \u001b[32m━━━━━━━━━━━━━━━━━━━━\u001b[0m\u001b[37m\u001b[0m \u001b[1m2s\u001b[0m 55ms/step - loss: 6.6372e-04 - val_loss: 2.9560e-04\n",
      "Epoch 71/100\n",
      "\u001b[1m43/43\u001b[0m \u001b[32m━━━━━━━━━━━━━━━━━━━━\u001b[0m\u001b[37m\u001b[0m \u001b[1m2s\u001b[0m 55ms/step - loss: 7.2162e-04 - val_loss: 2.7455e-04\n",
      "Epoch 72/100\n",
      "\u001b[1m43/43\u001b[0m \u001b[32m━━━━━━━━━━━━━━━━━━━━\u001b[0m\u001b[37m\u001b[0m \u001b[1m2s\u001b[0m 55ms/step - loss: 6.6815e-04 - val_loss: 2.7788e-04\n",
      "Epoch 73/100\n",
      "\u001b[1m43/43\u001b[0m \u001b[32m━━━━━━━━━━━━━━━━━━━━\u001b[0m\u001b[37m\u001b[0m \u001b[1m2s\u001b[0m 56ms/step - loss: 6.7544e-04 - val_loss: 2.7071e-04\n",
      "Epoch 74/100\n",
      "\u001b[1m43/43\u001b[0m \u001b[32m━━━━━━━━━━━━━━━━━━━━\u001b[0m\u001b[37m\u001b[0m \u001b[1m2s\u001b[0m 56ms/step - loss: 7.0016e-04 - val_loss: 3.6636e-04\n",
      "Epoch 75/100\n",
      "\u001b[1m43/43\u001b[0m \u001b[32m━━━━━━━━━━━━━━━━━━━━\u001b[0m\u001b[37m\u001b[0m \u001b[1m2s\u001b[0m 56ms/step - loss: 7.0543e-04 - val_loss: 3.7619e-04\n",
      "Epoch 76/100\n",
      "\u001b[1m43/43\u001b[0m \u001b[32m━━━━━━━━━━━━━━━━━━━━\u001b[0m\u001b[37m\u001b[0m \u001b[1m2s\u001b[0m 55ms/step - loss: 7.3680e-04 - val_loss: 2.5589e-04\n",
      "Epoch 77/100\n",
      "\u001b[1m43/43\u001b[0m \u001b[32m━━━━━━━━━━━━━━━━━━━━\u001b[0m\u001b[37m\u001b[0m \u001b[1m2s\u001b[0m 55ms/step - loss: 8.0340e-04 - val_loss: 2.6921e-04\n",
      "Epoch 78/100\n",
      "\u001b[1m43/43\u001b[0m \u001b[32m━━━━━━━━━━━━━━━━━━━━\u001b[0m\u001b[37m\u001b[0m \u001b[1m3s\u001b[0m 58ms/step - loss: 5.8360e-04 - val_loss: 2.6316e-04\n",
      "Epoch 79/100\n",
      "\u001b[1m43/43\u001b[0m \u001b[32m━━━━━━━━━━━━━━━━━━━━\u001b[0m\u001b[37m\u001b[0m \u001b[1m2s\u001b[0m 57ms/step - loss: 6.0877e-04 - val_loss: 4.6864e-04\n",
      "Epoch 80/100\n",
      "\u001b[1m43/43\u001b[0m \u001b[32m━━━━━━━━━━━━━━━━━━━━\u001b[0m\u001b[37m\u001b[0m \u001b[1m2s\u001b[0m 57ms/step - loss: 7.6246e-04 - val_loss: 3.9784e-04\n",
      "Epoch 81/100\n",
      "\u001b[1m43/43\u001b[0m \u001b[32m━━━━━━━━━━━━━━━━━━━━\u001b[0m\u001b[37m\u001b[0m \u001b[1m2s\u001b[0m 57ms/step - loss: 6.5029e-04 - val_loss: 2.4548e-04\n",
      "Epoch 82/100\n",
      "\u001b[1m43/43\u001b[0m \u001b[32m━━━━━━━━━━━━━━━━━━━━\u001b[0m\u001b[37m\u001b[0m \u001b[1m2s\u001b[0m 57ms/step - loss: 6.4598e-04 - val_loss: 4.2247e-04\n",
      "Epoch 83/100\n",
      "\u001b[1m43/43\u001b[0m \u001b[32m━━━━━━━━━━━━━━━━━━━━\u001b[0m\u001b[37m\u001b[0m \u001b[1m3s\u001b[0m 58ms/step - loss: 6.3700e-04 - val_loss: 2.7217e-04\n",
      "Epoch 84/100\n",
      "\u001b[1m43/43\u001b[0m \u001b[32m━━━━━━━━━━━━━━━━━━━━\u001b[0m\u001b[37m\u001b[0m \u001b[1m3s\u001b[0m 58ms/step - loss: 5.8267e-04 - val_loss: 2.9688e-04\n",
      "Epoch 85/100\n",
      "\u001b[1m43/43\u001b[0m \u001b[32m━━━━━━━━━━━━━━━━━━━━\u001b[0m\u001b[37m\u001b[0m \u001b[1m2s\u001b[0m 57ms/step - loss: 6.2344e-04 - val_loss: 2.9310e-04\n",
      "Epoch 86/100\n",
      "\u001b[1m43/43\u001b[0m \u001b[32m━━━━━━━━━━━━━━━━━━━━\u001b[0m\u001b[37m\u001b[0m \u001b[1m2s\u001b[0m 57ms/step - loss: 7.2123e-04 - val_loss: 2.3090e-04\n",
      "Epoch 87/100\n",
      "\u001b[1m43/43\u001b[0m \u001b[32m━━━━━━━━━━━━━━━━━━━━\u001b[0m\u001b[37m\u001b[0m \u001b[1m2s\u001b[0m 56ms/step - loss: 6.2043e-04 - val_loss: 3.3141e-04\n",
      "Epoch 88/100\n",
      "\u001b[1m43/43\u001b[0m \u001b[32m━━━━━━━━━━━━━━━━━━━━\u001b[0m\u001b[37m\u001b[0m \u001b[1m2s\u001b[0m 57ms/step - loss: 7.1862e-04 - val_loss: 2.9795e-04\n",
      "Epoch 89/100\n",
      "\u001b[1m43/43\u001b[0m \u001b[32m━━━━━━━━━━━━━━━━━━━━\u001b[0m\u001b[37m\u001b[0m \u001b[1m2s\u001b[0m 57ms/step - loss: 6.6057e-04 - val_loss: 2.9789e-04\n",
      "Epoch 90/100\n",
      "\u001b[1m43/43\u001b[0m \u001b[32m━━━━━━━━━━━━━━━━━━━━\u001b[0m\u001b[37m\u001b[0m \u001b[1m2s\u001b[0m 57ms/step - loss: 6.2460e-04 - val_loss: 3.6494e-04\n",
      "Epoch 91/100\n",
      "\u001b[1m43/43\u001b[0m \u001b[32m━━━━━━━━━━━━━━━━━━━━\u001b[0m\u001b[37m\u001b[0m \u001b[1m2s\u001b[0m 57ms/step - loss: 6.9202e-04 - val_loss: 3.1976e-04\n",
      "Epoch 92/100\n",
      "\u001b[1m43/43\u001b[0m \u001b[32m━━━━━━━━━━━━━━━━━━━━\u001b[0m\u001b[37m\u001b[0m \u001b[1m3s\u001b[0m 58ms/step - loss: 7.4682e-04 - val_loss: 3.9463e-04\n",
      "Epoch 93/100\n",
      "\u001b[1m43/43\u001b[0m \u001b[32m━━━━━━━━━━━━━━━━━━━━\u001b[0m\u001b[37m\u001b[0m \u001b[1m2s\u001b[0m 57ms/step - loss: 7.6346e-04 - val_loss: 2.7082e-04\n",
      "Epoch 94/100\n",
      "\u001b[1m43/43\u001b[0m \u001b[32m━━━━━━━━━━━━━━━━━━━━\u001b[0m\u001b[37m\u001b[0m \u001b[1m2s\u001b[0m 57ms/step - loss: 6.4797e-04 - val_loss: 2.1450e-04\n",
      "Epoch 95/100\n",
      "\u001b[1m43/43\u001b[0m \u001b[32m━━━━━━━━━━━━━━━━━━━━\u001b[0m\u001b[37m\u001b[0m \u001b[1m2s\u001b[0m 57ms/step - loss: 5.6834e-04 - val_loss: 4.1736e-04\n",
      "Epoch 96/100\n",
      "\u001b[1m43/43\u001b[0m \u001b[32m━━━━━━━━━━━━━━━━━━━━\u001b[0m\u001b[37m\u001b[0m \u001b[1m3s\u001b[0m 58ms/step - loss: 6.3641e-04 - val_loss: 3.4039e-04\n",
      "Epoch 97/100\n",
      "\u001b[1m43/43\u001b[0m \u001b[32m━━━━━━━━━━━━━━━━━━━━\u001b[0m\u001b[37m\u001b[0m \u001b[1m2s\u001b[0m 57ms/step - loss: 6.1066e-04 - val_loss: 2.2485e-04\n",
      "Epoch 98/100\n",
      "\u001b[1m43/43\u001b[0m \u001b[32m━━━━━━━━━━━━━━━━━━━━\u001b[0m\u001b[37m\u001b[0m \u001b[1m2s\u001b[0m 57ms/step - loss: 6.7243e-04 - val_loss: 3.1449e-04\n",
      "Epoch 99/100\n",
      "\u001b[1m43/43\u001b[0m \u001b[32m━━━━━━━━━━━━━━━━━━━━\u001b[0m\u001b[37m\u001b[0m \u001b[1m3s\u001b[0m 59ms/step - loss: 5.8027e-04 - val_loss: 2.9368e-04\n",
      "Epoch 100/100\n",
      "\u001b[1m43/43\u001b[0m \u001b[32m━━━━━━━━━━━━━━━━━━━━\u001b[0m\u001b[37m\u001b[0m \u001b[1m2s\u001b[0m 57ms/step - loss: 6.9331e-04 - val_loss: 3.4800e-04\n",
      "\u001b[1m14/14\u001b[0m \u001b[32m━━━━━━━━━━━━━━━━━━━━\u001b[0m\u001b[37m\u001b[0m \u001b[1m1s\u001b[0m 46ms/step\n"
     ]
    },
    {
     "ename": "NameError",
     "evalue": "name 'inverse_transform' is not defined",
     "output_type": "error",
     "traceback": [
      "\u001b[1;31m---------------------------------------------------------------------------\u001b[0m",
      "\u001b[1;31mNameError\u001b[0m                                 Traceback (most recent call last)",
      "Cell \u001b[1;32mIn[25], line 37\u001b[0m\n\u001b[0;32m     34\u001b[0m y_pred \u001b[38;5;241m=\u001b[39m model\u001b[38;5;241m.\u001b[39mpredict(X_test)\n\u001b[0;32m     36\u001b[0m \u001b[38;5;66;03m# Assume inverse_transform is a function to convert scaled values back to original scale\u001b[39;00m\n\u001b[1;32m---> 37\u001b[0m y_test_inv \u001b[38;5;241m=\u001b[39m inverse_transform(y_test)\n\u001b[0;32m     38\u001b[0m y_pred_inv \u001b[38;5;241m=\u001b[39m inverse_transform(y_pred)\n\u001b[0;32m     40\u001b[0m \u001b[38;5;66;03m# Plotting code\u001b[39;00m\n",
      "\u001b[1;31mNameError\u001b[0m: name 'inverse_transform' is not defined"
     ]
    }
   ],
   "source": [
    "import numpy as np\n",
    "import matplotlib.pyplot as plt\n",
    "from tensorflow.keras.models import Sequential\n",
    "from tensorflow.keras.layers import LSTM, Dense, Dropout\n",
    "from tensorflow.keras.optimizers import Adam\n",
    "from tensorflow.keras.callbacks import EarlyStopping\n",
    "\n",
    "# Assume X_train, y_train, X_test, y_test are already prepared and scaled\n",
    "\n",
    "# Best model based on typical Optuna results\n",
    "model = Sequential([\n",
    "    LSTM(128, return_sequences=True, input_shape=(X_train.shape[1], X_train.shape[2])),\n",
    "    Dropout(0.2),\n",
    "    LSTM(64, return_sequences=False),\n",
    "    Dropout(0.2),\n",
    "    Dense(32),\n",
    "    Dense(1)\n",
    "])\n",
    "\n",
    "model.compile(optimizer=Adam(learning_rate=0.001), loss='mean_squared_error')\n",
    "\n",
    "early_stopping = EarlyStopping(monitor='val_loss', patience=10, restore_best_weights=True)\n",
    "\n",
    "history = model.fit(\n",
    "    X_train, y_train,\n",
    "    epochs=100,\n",
    "    batch_size=32,\n",
    "    validation_split=0.2,\n",
    "    callbacks=[early_stopping],\n",
    "    verbose=1\n",
    ")\n",
    "\n",
    "# Make predictions\n",
    "y_pred = model.predict(X_test)\n",
    "\n",
    "# Assume inverse_transform is a function to convert scaled values back to original scale\n",
    "y_test_inv = inverse_transform(y_test)\n",
    "y_pred_inv = inverse_transform(y_pred)\n",
    "\n",
    "# Plotting code\n",
    "plt.figure(figsize=(12,6))\n",
    "plt.plot(y_test_inv, 'b', label=\"Original Price\", alpha=0.6)\n",
    "plt.plot(y_pred_inv, 'r', label=\"Predicted Price\", alpha=0.6)\n",
    "plt.xlabel('Time')\n",
    "plt.ylabel('Price')\n",
    "plt.legend()\n",
    "plt.grid(True)\n",
    "plt.title('Stock Price Prediction')\n",
    "\n",
    "# Add annotations\n",
    "plt.text(0, plt.ylim()[1], f'Test data range: {y_test_inv.min():.2f} - {y_test_inv.max():.2f}', \n",
    "         verticalalignment='top')\n",
    "plt.text(0, plt.ylim()[1]*0.95, f'Prediction range: {y_pred_inv.min():.2f} - {y_pred_inv.max():.2f}', \n",
    "         verticalalignment='top')\n",
    "\n",
    "plt.show()\n",
    "\n",
    "# Plot the loss\n",
    "plt.figure(figsize=(12, 6))\n",
    "plt.plot(history.history['loss'], label='Training Loss')\n",
    "plt.plot(history.history['val_loss'], label='Validation Loss')\n",
    "plt.title('Model Loss')\n",
    "plt.xlabel('Epoch')\n",
    "plt.ylabel('Loss')\n",
    "plt.legend()\n",
    "plt.show()\n",
    "\n",
    "# Calculate and plot R2 score\n",
    "from sklearn.metrics import r2_score\n",
    "r2 = r2_score(y_test_inv, y_pred_inv)\n",
    "\n",
    "fig, ax = plt.subplots()\n",
    "ax.barh(0, r2, color='skyblue')\n",
    "ax.set_xlim([-1, 1])\n",
    "ax.set_yticks([])\n",
    "ax.set_xlabel('R2 Score')\n",
    "ax.set_title(f'R2 Score: {r2:.4f}')\n",
    "plt.show()"
   ]
  },
  {
   "cell_type": "markdown",
   "id": "bd30fd20",
   "metadata": {},
   "source": [
    "## Final Model Training and Evaluation"
   ]
  },
  {
   "cell_type": "code",
   "execution_count": 13,
   "id": "c76ac4bd",
   "metadata": {},
   "outputs": [
    {
     "name": "stderr",
     "output_type": "stream",
     "text": [
      "C:\\Users\\lenovo\\anaconda3\\Lib\\site-packages\\keras\\src\\layers\\rnn\\rnn.py:204: UserWarning: Do not pass an `input_shape`/`input_dim` argument to a layer. When using Sequential models, prefer using an `Input(shape)` object as the first layer in the model instead.\n",
      "  super().__init__(**kwargs)\n"
     ]
    },
    {
     "name": "stdout",
     "output_type": "stream",
     "text": [
      "Epoch 1/100\n",
      "\u001b[1m97/97\u001b[0m \u001b[32m━━━━━━━━━━━━━━━━━━━━\u001b[0m\u001b[37m\u001b[0m \u001b[1m11s\u001b[0m 66ms/step - loss: 0.0232 - val_loss: 0.0013\n",
      "Epoch 2/100\n",
      "\u001b[1m97/97\u001b[0m \u001b[32m━━━━━━━━━━━━━━━━━━━━\u001b[0m\u001b[37m\u001b[0m \u001b[1m6s\u001b[0m 60ms/step - loss: 0.0029 - val_loss: 0.0020\n",
      "Epoch 3/100\n",
      "\u001b[1m97/97\u001b[0m \u001b[32m━━━━━━━━━━━━━━━━━━━━\u001b[0m\u001b[37m\u001b[0m \u001b[1m6s\u001b[0m 60ms/step - loss: 0.0029 - val_loss: 9.8242e-04\n",
      "Epoch 4/100\n",
      "\u001b[1m97/97\u001b[0m \u001b[32m━━━━━━━━━━━━━━━━━━━━\u001b[0m\u001b[37m\u001b[0m \u001b[1m6s\u001b[0m 60ms/step - loss: 0.0027 - val_loss: 8.5466e-04\n",
      "Epoch 5/100\n",
      "\u001b[1m97/97\u001b[0m \u001b[32m━━━━━━━━━━━━━━━━━━━━\u001b[0m\u001b[37m\u001b[0m \u001b[1m6s\u001b[0m 60ms/step - loss: 0.0022 - val_loss: 0.0011\n",
      "Epoch 6/100\n",
      "\u001b[1m97/97\u001b[0m \u001b[32m━━━━━━━━━━━━━━━━━━━━\u001b[0m\u001b[37m\u001b[0m \u001b[1m6s\u001b[0m 60ms/step - loss: 0.0024 - val_loss: 0.0039\n",
      "Epoch 7/100\n",
      "\u001b[1m97/97\u001b[0m \u001b[32m━━━━━━━━━━━━━━━━━━━━\u001b[0m\u001b[37m\u001b[0m \u001b[1m6s\u001b[0m 60ms/step - loss: 0.0028 - val_loss: 0.0010\n",
      "Epoch 8/100\n",
      "\u001b[1m97/97\u001b[0m \u001b[32m━━━━━━━━━━━━━━━━━━━━\u001b[0m\u001b[37m\u001b[0m \u001b[1m6s\u001b[0m 60ms/step - loss: 0.0023 - val_loss: 9.8111e-04\n",
      "Epoch 9/100\n",
      "\u001b[1m97/97\u001b[0m \u001b[32m━━━━━━━━━━━━━━━━━━━━\u001b[0m\u001b[37m\u001b[0m \u001b[1m6s\u001b[0m 60ms/step - loss: 0.0020 - val_loss: 0.0017\n",
      "Epoch 10/100\n",
      "\u001b[1m97/97\u001b[0m \u001b[32m━━━━━━━━━━━━━━━━━━━━\u001b[0m\u001b[37m\u001b[0m \u001b[1m6s\u001b[0m 60ms/step - loss: 0.0020 - val_loss: 0.0012\n",
      "Epoch 11/100\n",
      "\u001b[1m97/97\u001b[0m \u001b[32m━━━━━━━━━━━━━━━━━━━━\u001b[0m\u001b[37m\u001b[0m \u001b[1m6s\u001b[0m 60ms/step - loss: 0.0014 - val_loss: 7.1418e-04\n",
      "Epoch 12/100\n",
      "\u001b[1m97/97\u001b[0m \u001b[32m━━━━━━━━━━━━━━━━━━━━\u001b[0m\u001b[37m\u001b[0m \u001b[1m6s\u001b[0m 60ms/step - loss: 0.0016 - val_loss: 0.0013\n",
      "Epoch 13/100\n",
      "\u001b[1m97/97\u001b[0m \u001b[32m━━━━━━━━━━━━━━━━━━━━\u001b[0m\u001b[37m\u001b[0m \u001b[1m6s\u001b[0m 60ms/step - loss: 0.0017 - val_loss: 0.0012\n",
      "Epoch 14/100\n",
      "\u001b[1m97/97\u001b[0m \u001b[32m━━━━━━━━━━━━━━━━━━━━\u001b[0m\u001b[37m\u001b[0m \u001b[1m6s\u001b[0m 60ms/step - loss: 0.0018 - val_loss: 6.1562e-04\n",
      "Epoch 15/100\n",
      "\u001b[1m97/97\u001b[0m \u001b[32m━━━━━━━━━━━━━━━━━━━━\u001b[0m\u001b[37m\u001b[0m \u001b[1m6s\u001b[0m 60ms/step - loss: 0.0018 - val_loss: 0.0011\n",
      "Epoch 16/100\n",
      "\u001b[1m97/97\u001b[0m \u001b[32m━━━━━━━━━━━━━━━━━━━━\u001b[0m\u001b[37m\u001b[0m \u001b[1m6s\u001b[0m 60ms/step - loss: 0.0016 - val_loss: 0.0016\n",
      "Epoch 17/100\n",
      "\u001b[1m97/97\u001b[0m \u001b[32m━━━━━━━━━━━━━━━━━━━━\u001b[0m\u001b[37m\u001b[0m \u001b[1m6s\u001b[0m 60ms/step - loss: 0.0019 - val_loss: 5.3429e-04\n",
      "Epoch 18/100\n",
      "\u001b[1m97/97\u001b[0m \u001b[32m━━━━━━━━━━━━━━━━━━━━\u001b[0m\u001b[37m\u001b[0m \u001b[1m6s\u001b[0m 61ms/step - loss: 0.0012 - val_loss: 0.0011\n",
      "Epoch 19/100\n",
      "\u001b[1m97/97\u001b[0m \u001b[32m━━━━━━━━━━━━━━━━━━━━\u001b[0m\u001b[37m\u001b[0m \u001b[1m6s\u001b[0m 60ms/step - loss: 0.0013 - val_loss: 8.3771e-04\n",
      "Epoch 20/100\n",
      "\u001b[1m97/97\u001b[0m \u001b[32m━━━━━━━━━━━━━━━━━━━━\u001b[0m\u001b[37m\u001b[0m \u001b[1m6s\u001b[0m 60ms/step - loss: 0.0012 - val_loss: 8.4575e-04\n",
      "Epoch 21/100\n",
      "\u001b[1m97/97\u001b[0m \u001b[32m━━━━━━━━━━━━━━━━━━━━\u001b[0m\u001b[37m\u001b[0m \u001b[1m6s\u001b[0m 60ms/step - loss: 0.0015 - val_loss: 5.6185e-04\n",
      "Epoch 22/100\n",
      "\u001b[1m97/97\u001b[0m \u001b[32m━━━━━━━━━━━━━━━━━━━━\u001b[0m\u001b[37m\u001b[0m \u001b[1m6s\u001b[0m 60ms/step - loss: 0.0014 - val_loss: 4.3855e-04\n",
      "Epoch 23/100\n",
      "\u001b[1m97/97\u001b[0m \u001b[32m━━━━━━━━━━━━━━━━━━━━\u001b[0m\u001b[37m\u001b[0m \u001b[1m6s\u001b[0m 60ms/step - loss: 0.0016 - val_loss: 5.6520e-04\n",
      "Epoch 24/100\n",
      "\u001b[1m97/97\u001b[0m \u001b[32m━━━━━━━━━━━━━━━━━━━━\u001b[0m\u001b[37m\u001b[0m \u001b[1m6s\u001b[0m 60ms/step - loss: 0.0013 - val_loss: 5.8578e-04\n",
      "Epoch 25/100\n",
      "\u001b[1m97/97\u001b[0m \u001b[32m━━━━━━━━━━━━━━━━━━━━\u001b[0m\u001b[37m\u001b[0m \u001b[1m6s\u001b[0m 60ms/step - loss: 0.0011 - val_loss: 5.6360e-04\n",
      "Epoch 26/100\n",
      "\u001b[1m97/97\u001b[0m \u001b[32m━━━━━━━━━━━━━━━━━━━━\u001b[0m\u001b[37m\u001b[0m \u001b[1m6s\u001b[0m 60ms/step - loss: 0.0011 - val_loss: 5.7336e-04\n",
      "Epoch 27/100\n",
      "\u001b[1m97/97\u001b[0m \u001b[32m━━━━━━━━━━━━━━━━━━━━\u001b[0m\u001b[37m\u001b[0m \u001b[1m6s\u001b[0m 60ms/step - loss: 0.0011 - val_loss: 5.1755e-04\n",
      "Epoch 28/100\n",
      "\u001b[1m97/97\u001b[0m \u001b[32m━━━━━━━━━━━━━━━━━━━━\u001b[0m\u001b[37m\u001b[0m \u001b[1m6s\u001b[0m 60ms/step - loss: 0.0010 - val_loss: 3.9601e-04\n",
      "Epoch 29/100\n",
      "\u001b[1m97/97\u001b[0m \u001b[32m━━━━━━━━━━━━━━━━━━━━\u001b[0m\u001b[37m\u001b[0m \u001b[1m6s\u001b[0m 60ms/step - loss: 0.0011 - val_loss: 9.5096e-04\n",
      "Epoch 30/100\n",
      "\u001b[1m97/97\u001b[0m \u001b[32m━━━━━━━━━━━━━━━━━━━━\u001b[0m\u001b[37m\u001b[0m \u001b[1m6s\u001b[0m 61ms/step - loss: 0.0011 - val_loss: 3.9799e-04\n",
      "Epoch 31/100\n",
      "\u001b[1m97/97\u001b[0m \u001b[32m━━━━━━━━━━━━━━━━━━━━\u001b[0m\u001b[37m\u001b[0m \u001b[1m6s\u001b[0m 60ms/step - loss: 0.0013 - val_loss: 5.9874e-04\n",
      "Epoch 32/100\n",
      "\u001b[1m97/97\u001b[0m \u001b[32m━━━━━━━━━━━━━━━━━━━━\u001b[0m\u001b[37m\u001b[0m \u001b[1m6s\u001b[0m 60ms/step - loss: 0.0011 - val_loss: 0.0012\n",
      "Epoch 33/100\n",
      "\u001b[1m97/97\u001b[0m \u001b[32m━━━━━━━━━━━━━━━━━━━━\u001b[0m\u001b[37m\u001b[0m \u001b[1m6s\u001b[0m 60ms/step - loss: 0.0014 - val_loss: 5.1476e-04\n",
      "Epoch 34/100\n",
      "\u001b[1m97/97\u001b[0m \u001b[32m━━━━━━━━━━━━━━━━━━━━\u001b[0m\u001b[37m\u001b[0m \u001b[1m6s\u001b[0m 60ms/step - loss: 0.0010 - val_loss: 0.0011\n",
      "Epoch 35/100\n",
      "\u001b[1m97/97\u001b[0m \u001b[32m━━━━━━━━━━━━━━━━━━━━\u001b[0m\u001b[37m\u001b[0m \u001b[1m6s\u001b[0m 60ms/step - loss: 0.0011 - val_loss: 3.7950e-04\n",
      "Epoch 36/100\n",
      "\u001b[1m97/97\u001b[0m \u001b[32m━━━━━━━━━━━━━━━━━━━━\u001b[0m\u001b[37m\u001b[0m \u001b[1m6s\u001b[0m 61ms/step - loss: 9.9783e-04 - val_loss: 5.8808e-04\n",
      "Epoch 37/100\n",
      "\u001b[1m97/97\u001b[0m \u001b[32m━━━━━━━━━━━━━━━━━━━━\u001b[0m\u001b[37m\u001b[0m \u001b[1m6s\u001b[0m 62ms/step - loss: 8.1857e-04 - val_loss: 5.6022e-04\n",
      "Epoch 38/100\n",
      "\u001b[1m97/97\u001b[0m \u001b[32m━━━━━━━━━━━━━━━━━━━━\u001b[0m\u001b[37m\u001b[0m \u001b[1m6s\u001b[0m 61ms/step - loss: 0.0010 - val_loss: 5.2803e-04\n",
      "Epoch 39/100\n",
      "\u001b[1m97/97\u001b[0m \u001b[32m━━━━━━━━━━━━━━━━━━━━\u001b[0m\u001b[37m\u001b[0m \u001b[1m6s\u001b[0m 61ms/step - loss: 0.0012 - val_loss: 5.3215e-04\n",
      "Epoch 40/100\n",
      "\u001b[1m97/97\u001b[0m \u001b[32m━━━━━━━━━━━━━━━━━━━━\u001b[0m\u001b[37m\u001b[0m \u001b[1m6s\u001b[0m 61ms/step - loss: 9.4002e-04 - val_loss: 3.2926e-04\n",
      "Epoch 41/100\n",
      "\u001b[1m97/97\u001b[0m \u001b[32m━━━━━━━━━━━━━━━━━━━━\u001b[0m\u001b[37m\u001b[0m \u001b[1m6s\u001b[0m 61ms/step - loss: 8.3058e-04 - val_loss: 3.6783e-04\n",
      "Epoch 42/100\n",
      "\u001b[1m97/97\u001b[0m \u001b[32m━━━━━━━━━━━━━━━━━━━━\u001b[0m\u001b[37m\u001b[0m \u001b[1m6s\u001b[0m 61ms/step - loss: 8.0694e-04 - val_loss: 3.4161e-04\n",
      "Epoch 43/100\n",
      "\u001b[1m97/97\u001b[0m \u001b[32m━━━━━━━━━━━━━━━━━━━━\u001b[0m\u001b[37m\u001b[0m \u001b[1m6s\u001b[0m 61ms/step - loss: 9.9636e-04 - val_loss: 3.9254e-04\n",
      "Epoch 44/100\n",
      "\u001b[1m97/97\u001b[0m \u001b[32m━━━━━━━━━━━━━━━━━━━━\u001b[0m\u001b[37m\u001b[0m \u001b[1m6s\u001b[0m 61ms/step - loss: 8.4239e-04 - val_loss: 7.3576e-04\n",
      "Epoch 45/100\n",
      "\u001b[1m97/97\u001b[0m \u001b[32m━━━━━━━━━━━━━━━━━━━━\u001b[0m\u001b[37m\u001b[0m \u001b[1m6s\u001b[0m 61ms/step - loss: 0.0011 - val_loss: 4.0712e-04\n",
      "Epoch 46/100\n",
      "\u001b[1m97/97\u001b[0m \u001b[32m━━━━━━━━━━━━━━━━━━━━\u001b[0m\u001b[37m\u001b[0m \u001b[1m6s\u001b[0m 61ms/step - loss: 8.4650e-04 - val_loss: 4.1245e-04\n",
      "Epoch 47/100\n",
      "\u001b[1m97/97\u001b[0m \u001b[32m━━━━━━━━━━━━━━━━━━━━\u001b[0m\u001b[37m\u001b[0m \u001b[1m6s\u001b[0m 61ms/step - loss: 9.1860e-04 - val_loss: 3.4297e-04\n",
      "Epoch 48/100\n",
      "\u001b[1m97/97\u001b[0m \u001b[32m━━━━━━━━━━━━━━━━━━━━\u001b[0m\u001b[37m\u001b[0m \u001b[1m6s\u001b[0m 61ms/step - loss: 8.0464e-04 - val_loss: 3.5629e-04\n",
      "Epoch 49/100\n",
      "\u001b[1m97/97\u001b[0m \u001b[32m━━━━━━━━━━━━━━━━━━━━\u001b[0m\u001b[37m\u001b[0m \u001b[1m6s\u001b[0m 61ms/step - loss: 9.5730e-04 - val_loss: 6.9879e-04\n",
      "Epoch 50/100\n",
      "\u001b[1m97/97\u001b[0m \u001b[32m━━━━━━━━━━━━━━━━━━━━\u001b[0m\u001b[37m\u001b[0m \u001b[1m6s\u001b[0m 61ms/step - loss: 9.0974e-04 - val_loss: 8.6238e-04\n",
      "\u001b[1m14/14\u001b[0m \u001b[32m━━━━━━━━━━━━━━━━━━━━\u001b[0m\u001b[37m\u001b[0m \u001b[1m1s\u001b[0m 62ms/step\n",
      "Mean Squared Error: 0.0\n",
      "R2 Score: 1.0\n",
      "Mean Absolute Error: 0.0\n",
      "Mean Absolute Error Percentage: 0.00%\n"
     ]
    }
   ],
   "source": [
    "# Train the final model with the best hyperparameters\n",
    "best_params = study.best_params\n",
    "final_model = Sequential([\n",
    "    LSTM(best_params['lstm_units'], return_sequences=True, input_shape=(X_train.shape[1], X_train.shape[2])),\n",
    "    Dropout(best_params['dropout_rate']),\n",
    "    LSTM(best_params['lstm_units'], return_sequences=True),\n",
    "    Dropout(best_params['dropout_rate']),\n",
    "    LSTM(best_params['lstm_units']),\n",
    "    Dropout(best_params['dropout_rate']),\n",
    "    Dense(1)\n",
    "])\n",
    "\n",
    "final_model.compile(optimizer=Adam(learning_rate=best_params['learning_rate']), loss='mean_squared_error')\n",
    "\n",
    "early_stopping = EarlyStopping(monitor='val_loss', patience=10, restore_best_weights=True)\n",
    "\n",
    "history = final_model.fit(\n",
    "    X_train, y_train,\n",
    "    epochs=100,\n",
    "    batch_size=best_params['batch_size'],\n",
    "    validation_split=0.1,\n",
    "    callbacks=[early_stopping],\n",
    "    verbose=1\n",
    ")\n",
    "\n",
    "# Make predictions\n",
    "y_pred = final_model.predict(X_test)\n",
    "\n",
    "# Inverse transform the predictions and actual values\n",
    "y_test_inv = scaler.inverse_transform(np.concatenate((np.zeros((len(y_test), 5)), y_test.reshape(-1, 1)), axis=1))[:, 3]\n",
    "y_pred_inv = scaler.inverse_transform(np.concatenate((np.zeros((len(y_pred), 5)), y_pred), axis=1))[:, 3]\n",
    "\n",
    "# Calculate metrics\n",
    "mse = mean_squared_error(y_test_inv, y_pred_inv)\n",
    "r2 = r2_score(y_test_inv, y_pred_inv)\n",
    "mae = mean_absolute_error(y_test_inv, y_pred_inv)\n",
    "mae_percentage = (mae / np.mean(y_test_inv)) * 100\n",
    "\n",
    "print(f\"Mean Squared Error: {mse}\")\n",
    "print(f\"R2 Score: {r2}\")\n",
    "print(f\"Mean Absolute Error: {mae}\")\n",
    "print(f\"Mean Absolute Error Percentage: {mae_percentage:.2f}%\")"
   ]
  },
  {
   "cell_type": "markdown",
   "id": "5c24cb0e",
   "metadata": {},
   "source": [
    "## Visualization of Results"
   ]
  },
  {
   "cell_type": "code",
   "execution_count": 27,
   "id": "29334bef-0e92-44c3-8af1-ef61f7b3b592",
   "metadata": {},
   "outputs": [
    {
     "data": {
      "text/html": [
       "<pre style=\"white-space:pre;overflow-x:auto;line-height:normal;font-family:Menlo,'DejaVu Sans Mono',consolas,'Courier New',monospace\"><span style=\"font-weight: bold\">Model: \"sequential_50\"</span>\n",
       "</pre>\n"
      ],
      "text/plain": [
       "\u001b[1mModel: \"sequential_50\"\u001b[0m\n"
      ]
     },
     "metadata": {},
     "output_type": "display_data"
    },
    {
     "data": {
      "text/html": [
       "<pre style=\"white-space:pre;overflow-x:auto;line-height:normal;font-family:Menlo,'DejaVu Sans Mono',consolas,'Courier New',monospace\">┏━━━━━━━━━━━━━━━━━━━━━━━━━━━━━━━━━━━━━━┳━━━━━━━━━━━━━━━━━━━━━━━━━━━━━┳━━━━━━━━━━━━━━━━━┓\n",
       "┃<span style=\"font-weight: bold\"> Layer (type)                         </span>┃<span style=\"font-weight: bold\"> Output Shape                </span>┃<span style=\"font-weight: bold\">         Param # </span>┃\n",
       "┡━━━━━━━━━━━━━━━━━━━━━━━━━━━━━━━━━━━━━━╇━━━━━━━━━━━━━━━━━━━━━━━━━━━━━╇━━━━━━━━━━━━━━━━━┩\n",
       "│ lstm_150 (<span style=\"color: #0087ff; text-decoration-color: #0087ff\">LSTM</span>)                      │ (<span style=\"color: #00d7ff; text-decoration-color: #00d7ff\">None</span>, <span style=\"color: #00af00; text-decoration-color: #00af00\">60</span>, <span style=\"color: #00af00; text-decoration-color: #00af00\">89</span>)              │          <span style=\"color: #00af00; text-decoration-color: #00af00\">34,176</span> │\n",
       "├──────────────────────────────────────┼─────────────────────────────┼─────────────────┤\n",
       "│ dropout_150 (<span style=\"color: #0087ff; text-decoration-color: #0087ff\">Dropout</span>)                │ (<span style=\"color: #00d7ff; text-decoration-color: #00d7ff\">None</span>, <span style=\"color: #00af00; text-decoration-color: #00af00\">60</span>, <span style=\"color: #00af00; text-decoration-color: #00af00\">89</span>)              │               <span style=\"color: #00af00; text-decoration-color: #00af00\">0</span> │\n",
       "├──────────────────────────────────────┼─────────────────────────────┼─────────────────┤\n",
       "│ lstm_151 (<span style=\"color: #0087ff; text-decoration-color: #0087ff\">LSTM</span>)                      │ (<span style=\"color: #00d7ff; text-decoration-color: #00d7ff\">None</span>, <span style=\"color: #00af00; text-decoration-color: #00af00\">60</span>, <span style=\"color: #00af00; text-decoration-color: #00af00\">89</span>)              │          <span style=\"color: #00af00; text-decoration-color: #00af00\">63,724</span> │\n",
       "├──────────────────────────────────────┼─────────────────────────────┼─────────────────┤\n",
       "│ dropout_151 (<span style=\"color: #0087ff; text-decoration-color: #0087ff\">Dropout</span>)                │ (<span style=\"color: #00d7ff; text-decoration-color: #00d7ff\">None</span>, <span style=\"color: #00af00; text-decoration-color: #00af00\">60</span>, <span style=\"color: #00af00; text-decoration-color: #00af00\">89</span>)              │               <span style=\"color: #00af00; text-decoration-color: #00af00\">0</span> │\n",
       "├──────────────────────────────────────┼─────────────────────────────┼─────────────────┤\n",
       "│ lstm_152 (<span style=\"color: #0087ff; text-decoration-color: #0087ff\">LSTM</span>)                      │ (<span style=\"color: #00d7ff; text-decoration-color: #00d7ff\">None</span>, <span style=\"color: #00af00; text-decoration-color: #00af00\">89</span>)                  │          <span style=\"color: #00af00; text-decoration-color: #00af00\">63,724</span> │\n",
       "├──────────────────────────────────────┼─────────────────────────────┼─────────────────┤\n",
       "│ dropout_152 (<span style=\"color: #0087ff; text-decoration-color: #0087ff\">Dropout</span>)                │ (<span style=\"color: #00d7ff; text-decoration-color: #00d7ff\">None</span>, <span style=\"color: #00af00; text-decoration-color: #00af00\">89</span>)                  │               <span style=\"color: #00af00; text-decoration-color: #00af00\">0</span> │\n",
       "├──────────────────────────────────────┼─────────────────────────────┼─────────────────┤\n",
       "│ dense_50 (<span style=\"color: #0087ff; text-decoration-color: #0087ff\">Dense</span>)                     │ (<span style=\"color: #00d7ff; text-decoration-color: #00d7ff\">None</span>, <span style=\"color: #00af00; text-decoration-color: #00af00\">1</span>)                   │              <span style=\"color: #00af00; text-decoration-color: #00af00\">90</span> │\n",
       "└──────────────────────────────────────┴─────────────────────────────┴─────────────────┘\n",
       "</pre>\n"
      ],
      "text/plain": [
       "┏━━━━━━━━━━━━━━━━━━━━━━━━━━━━━━━━━━━━━━┳━━━━━━━━━━━━━━━━━━━━━━━━━━━━━┳━━━━━━━━━━━━━━━━━┓\n",
       "┃\u001b[1m \u001b[0m\u001b[1mLayer (type)                        \u001b[0m\u001b[1m \u001b[0m┃\u001b[1m \u001b[0m\u001b[1mOutput Shape               \u001b[0m\u001b[1m \u001b[0m┃\u001b[1m \u001b[0m\u001b[1m        Param #\u001b[0m\u001b[1m \u001b[0m┃\n",
       "┡━━━━━━━━━━━━━━━━━━━━━━━━━━━━━━━━━━━━━━╇━━━━━━━━━━━━━━━━━━━━━━━━━━━━━╇━━━━━━━━━━━━━━━━━┩\n",
       "│ lstm_150 (\u001b[38;5;33mLSTM\u001b[0m)                      │ (\u001b[38;5;45mNone\u001b[0m, \u001b[38;5;34m60\u001b[0m, \u001b[38;5;34m89\u001b[0m)              │          \u001b[38;5;34m34,176\u001b[0m │\n",
       "├──────────────────────────────────────┼─────────────────────────────┼─────────────────┤\n",
       "│ dropout_150 (\u001b[38;5;33mDropout\u001b[0m)                │ (\u001b[38;5;45mNone\u001b[0m, \u001b[38;5;34m60\u001b[0m, \u001b[38;5;34m89\u001b[0m)              │               \u001b[38;5;34m0\u001b[0m │\n",
       "├──────────────────────────────────────┼─────────────────────────────┼─────────────────┤\n",
       "│ lstm_151 (\u001b[38;5;33mLSTM\u001b[0m)                      │ (\u001b[38;5;45mNone\u001b[0m, \u001b[38;5;34m60\u001b[0m, \u001b[38;5;34m89\u001b[0m)              │          \u001b[38;5;34m63,724\u001b[0m │\n",
       "├──────────────────────────────────────┼─────────────────────────────┼─────────────────┤\n",
       "│ dropout_151 (\u001b[38;5;33mDropout\u001b[0m)                │ (\u001b[38;5;45mNone\u001b[0m, \u001b[38;5;34m60\u001b[0m, \u001b[38;5;34m89\u001b[0m)              │               \u001b[38;5;34m0\u001b[0m │\n",
       "├──────────────────────────────────────┼─────────────────────────────┼─────────────────┤\n",
       "│ lstm_152 (\u001b[38;5;33mLSTM\u001b[0m)                      │ (\u001b[38;5;45mNone\u001b[0m, \u001b[38;5;34m89\u001b[0m)                  │          \u001b[38;5;34m63,724\u001b[0m │\n",
       "├──────────────────────────────────────┼─────────────────────────────┼─────────────────┤\n",
       "│ dropout_152 (\u001b[38;5;33mDropout\u001b[0m)                │ (\u001b[38;5;45mNone\u001b[0m, \u001b[38;5;34m89\u001b[0m)                  │               \u001b[38;5;34m0\u001b[0m │\n",
       "├──────────────────────────────────────┼─────────────────────────────┼─────────────────┤\n",
       "│ dense_50 (\u001b[38;5;33mDense\u001b[0m)                     │ (\u001b[38;5;45mNone\u001b[0m, \u001b[38;5;34m1\u001b[0m)                   │              \u001b[38;5;34m90\u001b[0m │\n",
       "└──────────────────────────────────────┴─────────────────────────────┴─────────────────┘\n"
      ]
     },
     "metadata": {},
     "output_type": "display_data"
    },
    {
     "data": {
      "text/html": [
       "<pre style=\"white-space:pre;overflow-x:auto;line-height:normal;font-family:Menlo,'DejaVu Sans Mono',consolas,'Courier New',monospace\"><span style=\"font-weight: bold\"> Total params: </span><span style=\"color: #00af00; text-decoration-color: #00af00\">485,144</span> (1.85 MB)\n",
       "</pre>\n"
      ],
      "text/plain": [
       "\u001b[1m Total params: \u001b[0m\u001b[38;5;34m485,144\u001b[0m (1.85 MB)\n"
      ]
     },
     "metadata": {},
     "output_type": "display_data"
    },
    {
     "data": {
      "text/html": [
       "<pre style=\"white-space:pre;overflow-x:auto;line-height:normal;font-family:Menlo,'DejaVu Sans Mono',consolas,'Courier New',monospace\"><span style=\"font-weight: bold\"> Trainable params: </span><span style=\"color: #00af00; text-decoration-color: #00af00\">161,714</span> (631.70 KB)\n",
       "</pre>\n"
      ],
      "text/plain": [
       "\u001b[1m Trainable params: \u001b[0m\u001b[38;5;34m161,714\u001b[0m (631.70 KB)\n"
      ]
     },
     "metadata": {},
     "output_type": "display_data"
    },
    {
     "data": {
      "text/html": [
       "<pre style=\"white-space:pre;overflow-x:auto;line-height:normal;font-family:Menlo,'DejaVu Sans Mono',consolas,'Courier New',monospace\"><span style=\"font-weight: bold\"> Non-trainable params: </span><span style=\"color: #00af00; text-decoration-color: #00af00\">0</span> (0.00 B)\n",
       "</pre>\n"
      ],
      "text/plain": [
       "\u001b[1m Non-trainable params: \u001b[0m\u001b[38;5;34m0\u001b[0m (0.00 B)\n"
      ]
     },
     "metadata": {},
     "output_type": "display_data"
    },
    {
     "data": {
      "text/html": [
       "<pre style=\"white-space:pre;overflow-x:auto;line-height:normal;font-family:Menlo,'DejaVu Sans Mono',consolas,'Courier New',monospace\"><span style=\"font-weight: bold\"> Optimizer params: </span><span style=\"color: #00af00; text-decoration-color: #00af00\">323,430</span> (1.23 MB)\n",
       "</pre>\n"
      ],
      "text/plain": [
       "\u001b[1m Optimizer params: \u001b[0m\u001b[38;5;34m323,430\u001b[0m (1.23 MB)\n"
      ]
     },
     "metadata": {},
     "output_type": "display_data"
    }
   ],
   "source": [
    "final_model.summary()"
   ]
  },
  {
   "cell_type": "code",
   "execution_count": 29,
   "id": "d99eda51",
   "metadata": {},
   "outputs": [
    {
     "data": {
      "image/png": "[encoded data removed]",
      "text/plain": [
       "<Figure size 1200x600 with 1 Axes>"
      ]
     },
     "metadata": {},
     "output_type": "display_data"
    },
    {
     "data": {
      "image/png": "[encoded data removed]",
      "text/plain": [
       "<Figure size 640x480 with 1 Axes>"
      ]
     },
     "metadata": {},
     "output_type": "display_data"
    },
    {
     "data": {
      "image/png": "[encoded data removed]",
      "text/plain": [
       "<Figure size 1200x600 with 1 Axes>"
      ]
     },
     "metadata": {},
     "output_type": "display_data"
    },
    {
     "data": {
      "image/png": "[encoded data removed]",
      "text/plain": [
       "<Figure size 640x480 with 1 Axes>"
      ]
     },
     "metadata": {},
     "output_type": "display_data"
    }
   ],
   "source": [
    "# Plot the results\n",
    "plt.figure(figsize=(12,6))\n",
    "plt.plot(y_test_inv, 'b', label=\"Original Price\", alpha=0.6)\n",
    "plt.plot(y_pred_inv, 'r', label=\"Predicted Price\", alpha=0.6)\n",
    "plt.xlabel('Time')\n",
    "plt.ylabel('Price')\n",
    "plt.legend()\n",
    "plt.grid(True)\n",
    "plt.title('Reliance Stock Price Prediction')\n",
    "\n",
    "# Add some annotations\n",
    "plt.text(0, plt.ylim()[1], f'Test data range: {y_test_inv.min():.2f} - {y_test_inv.max():.2f}', \n",
    "         verticalalignment='top')\n",
    "plt.text(0, plt.ylim()[1]*0.95, f'Prediction range: {y_pred_inv.min():.2f} - {y_pred_inv.max():.2f}', \n",
    "         verticalalignment='top')\n",
    "\n",
    "plt.show()\n",
    "\n",
    "# Add some annotations\n",
    "plt.text(0, plt.ylim()[1], f'Test data range: {y_test_inv.min():.2f} - {y_test_inv.max():.2f}', \n",
    "         verticalalignment='top')\n",
    "plt.text(0, plt.ylim()[1]*0.95, f'Prediction range: {y_pred_inv.min():.2f} - {y_pred_inv.max():.2f}', \n",
    "         verticalalignment='top')\n",
    "\n",
    "plt.show()\n",
    "# Plot the loss\n",
    "plt.figure(figsize=(12, 6))\n",
    "plt.plot(history.history['loss'], label='Training Loss')\n",
    "plt.plot(history.history['val_loss'], label='Validation Loss')\n",
    "plt.title('Model Loss')\n",
    "plt.xlabel('Epoch')\n",
    "plt.ylabel('Loss')\n",
    "plt.legend()\n",
    "plt.show()\n",
    "\n",
    "# Plot R2 score\n",
    "fig, ax = plt.subplots()\n",
    "ax.barh(0, r2, color='skyblue')\n",
    "ax.set_xlim([-1, 1])\n",
    "ax.set_yticks([])\n",
    "ax.set_xlabel('R2 Score')\n",
    "ax.set_title('R2 Score')\n",
    "plt.show()"
   ]
  },
  {
   "cell_type": "code",
   "execution_count": null,
   "id": "8c15abad-7610-4d57-8410-d43fb667481c",
   "metadata": {},
   "outputs": [],
   "source": []
  },
  {
   "cell_type": "code",
   "execution_count": null,
   "id": "b42864ca-be94-4b60-bdc6-690ff5d577e9",
   "metadata": {},
   "outputs": [],
   "source": []
  }
 ],
 "metadata": {
  "kernelspec": {
   "display_name": "Python 3 (ipykernel)",
   "language": "python",
   "name": "python3"
  },
  "language_info": {
   "codemirror_mode": {
    "name": "ipython",
    "version": 3
   },
   "file_extension": ".py",
   "mimetype": "text/x-python",
   "name": "python",
   "nbconvert_exporter": "python",
   "pygments_lexer": "ipython3",
   "version": "3.11.7"
  }
 },
 "nbformat": 4,
 "nbformat_minor": 5
}
